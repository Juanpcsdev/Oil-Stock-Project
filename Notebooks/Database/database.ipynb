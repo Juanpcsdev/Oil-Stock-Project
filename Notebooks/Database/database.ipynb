{
 "cells": [
  {
   "cell_type": "code",
   "execution_count": 87,
   "metadata": {},
   "outputs": [],
   "source": [
    "from dotenv import load_dotenv\n",
    "import os\n",
    "from sqlalchemy import create_engine\n",
    "import pandas as pd\n",
    "\n",
    "load_dotenv()\n",
    "\n",
    "db_user = os.getenv('DB_USER')\n",
    "db_password = os.getenv('DB_PASSWORD')\n",
    "db_host = os.getenv('DB_HOST')\n",
    "db_name = os.getenv('DB_NAME')\n",
    "db_ssl_mode = os.getenv('DB_SSL_MODE')\n",
    "\n",
    "# Construir a URL de conexão\n",
    "db_url = f'postgresql://{db_user}:{db_password}@{db_host}/{db_name}?sslmode={db_ssl_mode}'\n",
    "\n",
    "# Criar o motor de conexão\n",
    "engine = create_engine(db_url)"
   ]
  },
  {
   "cell_type": "code",
   "execution_count": 88,
   "metadata": {},
   "outputs": [],
   "source": [
    "# Caminhos dos arquivos CSV\n",
    "join_file_path = r'..\\..\\camada_ouro\\Join_dataframes_new_end.csv'\n",
    "\n",
    "# Carregar os arquivos CSV\n",
    "join_df = pd.read_csv(join_file_path)"
   ]
  },
  {
   "cell_type": "code",
   "execution_count": 89,
   "metadata": {},
   "outputs": [
    {
     "name": "stdout",
     "output_type": "stream",
     "text": [
      "<class 'pandas.core.frame.DataFrame'>\n",
      "RangeIndex: 3631 entries, 0 to 3630\n",
      "Data columns (total 11 columns):\n",
      " #   Column             Non-Null Count  Dtype  \n",
      "---  ------             --------------  -----  \n",
      " 0   Date               3631 non-null   object \n",
      " 1   Datetime           3631 non-null   object \n",
      " 2   Close_Real_EYAC2   3631 non-null   float64\n",
      " 3   Volume_EYAC2       3631 non-null   float64\n",
      " 4   Close_Dolar_EYAC2  3631 non-null   float64\n",
      " 5   Price_Dolar_Petro  3631 non-null   float64\n",
      " 6   Volume_Petro       3631 non-null   float64\n",
      " 7   Change%_Petro      3631 non-null   object \n",
      " 8   Índice_Ibovespa    3631 non-null   float64\n",
      " 9   Change%_Ibovespa   3631 non-null   float64\n",
      " 10  Value_IPCA         3631 non-null   object \n",
      "dtypes: float64(7), object(4)\n",
      "memory usage: 312.2+ KB\n"
     ]
    }
   ],
   "source": [
    "join_df.info()"
   ]
  },
  {
   "cell_type": "code",
   "execution_count": 90,
   "metadata": {},
   "outputs": [
    {
     "data": {
      "text/html": [
       "<div>\n",
       "<style scoped>\n",
       "    .dataframe tbody tr th:only-of-type {\n",
       "        vertical-align: middle;\n",
       "    }\n",
       "\n",
       "    .dataframe tbody tr th {\n",
       "        vertical-align: top;\n",
       "    }\n",
       "\n",
       "    .dataframe thead th {\n",
       "        text-align: right;\n",
       "    }\n",
       "</style>\n",
       "<table border=\"1\" class=\"dataframe\">\n",
       "  <thead>\n",
       "    <tr style=\"text-align: right;\">\n",
       "      <th></th>\n",
       "      <th>Date</th>\n",
       "      <th>Datetime</th>\n",
       "      <th>Close_Real_EYAC2</th>\n",
       "      <th>Volume_EYAC2</th>\n",
       "      <th>Close_Dolar_EYAC2</th>\n",
       "      <th>Price_Dolar_Petro</th>\n",
       "      <th>Volume_Petro</th>\n",
       "      <th>Change%_Petro</th>\n",
       "      <th>Índice_Ibovespa</th>\n",
       "      <th>Change%_Ibovespa</th>\n",
       "      <th>Value_IPCA</th>\n",
       "    </tr>\n",
       "  </thead>\n",
       "  <tbody>\n",
       "    <tr>\n",
       "      <th>0</th>\n",
       "      <td>2010-01-04</td>\n",
       "      <td>2010-01-04 16:56:00</td>\n",
       "      <td>37.937621</td>\n",
       "      <td>13303743.87</td>\n",
       "      <td>22.005581</td>\n",
       "      <td>81.51</td>\n",
       "      <td>263.54</td>\n",
       "      <td>2.71%</td>\n",
       "      <td>70045.08</td>\n",
       "      <td>0.399893</td>\n",
       "      <td>0.75%</td>\n",
       "    </tr>\n",
       "    <tr>\n",
       "      <th>1</th>\n",
       "      <td>2010-01-05</td>\n",
       "      <td>2010-01-05 16:56:00</td>\n",
       "      <td>37.774220</td>\n",
       "      <td>21396519.48</td>\n",
       "      <td>21.927335</td>\n",
       "      <td>81.77</td>\n",
       "      <td>258.89</td>\n",
       "      <td>0.32%</td>\n",
       "      <td>70239.82</td>\n",
       "      <td>-3.775387</td>\n",
       "      <td>0.75%</td>\n",
       "    </tr>\n",
       "  </tbody>\n",
       "</table>\n",
       "</div>"
      ],
      "text/plain": [
       "         Date             Datetime  Close_Real_EYAC2  Volume_EYAC2  \\\n",
       "0  2010-01-04  2010-01-04 16:56:00         37.937621   13303743.87   \n",
       "1  2010-01-05  2010-01-05 16:56:00         37.774220   21396519.48   \n",
       "\n",
       "   Close_Dolar_EYAC2  Price_Dolar_Petro  Volume_Petro Change%_Petro  \\\n",
       "0          22.005581              81.51        263.54         2.71%   \n",
       "1          21.927335              81.77        258.89         0.32%   \n",
       "\n",
       "   Índice_Ibovespa  Change%_Ibovespa Value_IPCA  \n",
       "0         70045.08          0.399893      0.75%  \n",
       "1         70239.82         -3.775387      0.75%  "
      ]
     },
     "execution_count": 90,
     "metadata": {},
     "output_type": "execute_result"
    }
   ],
   "source": [
    "join_df.head(2)"
   ]
  },
  {
   "cell_type": "code",
   "execution_count": 91,
   "metadata": {},
   "outputs": [],
   "source": [
    "# Limpeza de colunas com %\n",
    "join_df['Change%_Petro'] = join_df['Change%_Petro'].str.replace('%', '').astype(float) / 100\n",
    "join_df['Value_IPCA'] = join_df['Value_IPCA'].str.replace('%', '').astype(float) / 100\n",
    "join_df['Change%_Ibovespa'] = join_df['Change%_Ibovespa'].astype(\"str\")\n",
    "join_df['Change%_Ibovespa'] = join_df['Change%_Ibovespa'].str.replace('%', '').astype(float) / 100"
   ]
  },
  {
   "cell_type": "code",
   "execution_count": 92,
   "metadata": {},
   "outputs": [
    {
     "data": {
      "text/html": [
       "<div>\n",
       "<style scoped>\n",
       "    .dataframe tbody tr th:only-of-type {\n",
       "        vertical-align: middle;\n",
       "    }\n",
       "\n",
       "    .dataframe tbody tr th {\n",
       "        vertical-align: top;\n",
       "    }\n",
       "\n",
       "    .dataframe thead th {\n",
       "        text-align: right;\n",
       "    }\n",
       "</style>\n",
       "<table border=\"1\" class=\"dataframe\">\n",
       "  <thead>\n",
       "    <tr style=\"text-align: right;\">\n",
       "      <th></th>\n",
       "      <th>Date</th>\n",
       "      <th>Datetime</th>\n",
       "      <th>Close_Real_EYAC2</th>\n",
       "      <th>Volume_EYAC2</th>\n",
       "      <th>Close_Dolar_EYAC2</th>\n",
       "      <th>Price_Dolar_Petro</th>\n",
       "      <th>Volume_Petro</th>\n",
       "      <th>Change%_Petro</th>\n",
       "      <th>Índice_Ibovespa</th>\n",
       "      <th>Change%_Ibovespa</th>\n",
       "      <th>Value_IPCA</th>\n",
       "    </tr>\n",
       "  </thead>\n",
       "  <tbody>\n",
       "    <tr>\n",
       "      <th>0</th>\n",
       "      <td>2010-01-04</td>\n",
       "      <td>2010-01-04 16:56:00</td>\n",
       "      <td>37.937621</td>\n",
       "      <td>13303743.87</td>\n",
       "      <td>22.005581</td>\n",
       "      <td>81.51</td>\n",
       "      <td>263.54</td>\n",
       "      <td>0.0271</td>\n",
       "      <td>70045.08</td>\n",
       "      <td>0.003999</td>\n",
       "      <td>0.0075</td>\n",
       "    </tr>\n",
       "    <tr>\n",
       "      <th>1</th>\n",
       "      <td>2010-01-05</td>\n",
       "      <td>2010-01-05 16:56:00</td>\n",
       "      <td>37.774220</td>\n",
       "      <td>21396519.48</td>\n",
       "      <td>21.927335</td>\n",
       "      <td>81.77</td>\n",
       "      <td>258.89</td>\n",
       "      <td>0.0032</td>\n",
       "      <td>70239.82</td>\n",
       "      <td>-0.037754</td>\n",
       "      <td>0.0075</td>\n",
       "    </tr>\n",
       "  </tbody>\n",
       "</table>\n",
       "</div>"
      ],
      "text/plain": [
       "         Date             Datetime  Close_Real_EYAC2  Volume_EYAC2  \\\n",
       "0  2010-01-04  2010-01-04 16:56:00         37.937621   13303743.87   \n",
       "1  2010-01-05  2010-01-05 16:56:00         37.774220   21396519.48   \n",
       "\n",
       "   Close_Dolar_EYAC2  Price_Dolar_Petro  Volume_Petro  Change%_Petro  \\\n",
       "0          22.005581              81.51        263.54         0.0271   \n",
       "1          21.927335              81.77        258.89         0.0032   \n",
       "\n",
       "   Índice_Ibovespa  Change%_Ibovespa  Value_IPCA  \n",
       "0         70045.08          0.003999      0.0075  \n",
       "1         70239.82         -0.037754      0.0075  "
      ]
     },
     "execution_count": 92,
     "metadata": {},
     "output_type": "execute_result"
    }
   ],
   "source": [
    "join_df.head(2)"
   ]
  },
  {
   "cell_type": "code",
   "execution_count": 93,
   "metadata": {},
   "outputs": [],
   "source": [
    "colunas =['Close_Real_EYAC2', 'Volume_EYAC2', 'Close_Dolar_EYAC2',\n",
    "       'Price_Dolar_Petro', 'Volume_Petro', 'Change%_Petro', 'Índice_Ibovespa',\n",
    "       'Change%_Ibovespa', 'Value_IPCA']\n",
    "\n",
    "join_df[colunas] = join_df[colunas].astype(\"str\")"
   ]
  },
  {
   "cell_type": "code",
   "execution_count": 94,
   "metadata": {},
   "outputs": [
    {
     "name": "stdout",
     "output_type": "stream",
     "text": [
      "<class 'pandas.core.frame.DataFrame'>\n",
      "RangeIndex: 3631 entries, 0 to 3630\n",
      "Data columns (total 11 columns):\n",
      " #   Column             Non-Null Count  Dtype \n",
      "---  ------             --------------  ----- \n",
      " 0   Date               3631 non-null   object\n",
      " 1   Datetime           3631 non-null   object\n",
      " 2   Close_Real_EYAC2   3631 non-null   object\n",
      " 3   Volume_EYAC2       3631 non-null   object\n",
      " 4   Close_Dolar_EYAC2  3631 non-null   object\n",
      " 5   Price_Dolar_Petro  3631 non-null   object\n",
      " 6   Volume_Petro       3631 non-null   object\n",
      " 7   Change%_Petro      3631 non-null   object\n",
      " 8   Índice_Ibovespa    3631 non-null   object\n",
      " 9   Change%_Ibovespa   3631 non-null   object\n",
      " 10  Value_IPCA         3631 non-null   object\n",
      "dtypes: object(11)\n",
      "memory usage: 312.2+ KB\n"
     ]
    }
   ],
   "source": [
    "join_df.info()"
   ]
  },
  {
   "cell_type": "code",
   "execution_count": 95,
   "metadata": {},
   "outputs": [],
   "source": [
    "join_df[colunas] = join_df[colunas].map(lambda x: x.replace(\".\",\",\"))"
   ]
  },
  {
   "cell_type": "code",
   "execution_count": 96,
   "metadata": {},
   "outputs": [
    {
     "name": "stdout",
     "output_type": "stream",
     "text": [
      "Dados enviados com sucesso para o banco de dados!\n"
     ]
    }
   ],
   "source": [
    "# Enviar os DataFrames para o PostgreSQL\n",
    "join_df.to_sql('join_dataframe', con=engine, if_exists='replace', index=False)\n",
    "\n",
    "print(\"Dados enviados com sucesso para o banco de dados!\")"
   ]
  }
 ],
 "metadata": {
  "kernelspec": {
   "display_name": "Python 3",
   "language": "python",
   "name": "python3"
  },
  "language_info": {
   "codemirror_mode": {
    "name": "ipython",
    "version": 3
   },
   "file_extension": ".py",
   "mimetype": "text/x-python",
   "name": "python",
   "nbconvert_exporter": "python",
   "pygments_lexer": "ipython3",
   "version": "3.13.2"
  }
 },
 "nbformat": 4,
 "nbformat_minor": 2
}
