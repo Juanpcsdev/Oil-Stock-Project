{
 "cells": [
  {
   "cell_type": "code",
   "execution_count": null,
   "metadata": {},
   "outputs": [],
   "source": [
    "import os\n",
    "from sqlalchemy import create_engine\n",
    "import pandas as pd\n",
    "\n",
    "# Obtenção das variáveis de ambiente\n",
    "db_user = os.getenv('DB_USER')\n",
    "db_password = os.getenv('DB_PASSWORD')\n",
    "db_host = os.getenv('DB_HOST')\n",
    "db_name = os.getenv('DB_NAME')\n",
    "db_ssl_mode = os.getenv('DB_SSL_MODE', 'require')  # Valor padrão 'require' caso não esteja configurado\n",
    "\n",
    "# Construir a URL de conexão\n",
    "db_url = f'postgresql://{db_user}:{db_password}@{db_host}/{db_name}?sslmode={db_ssl_mode}'\n",
    "\n",
    "# Criar o motor de conexão\n",
    "engine = create_engine(db_url)"
   ]
  },
  {
   "cell_type": "code",
   "execution_count": null,
   "metadata": {},
   "outputs": [],
   "source": [
    "# Caminhos dos arquivos CSV\n",
    "join_file_path = 'camada_ouro/Join_dataframes_new_end.csv'\n",
    "prev_close_real = 'camada_ouro/comparison_real_vs_preds_vs_erros_Real.csv'\n",
    "prev_close_dolar = 'camada_ouro/comparison_real_vs_preds_vs_erros_Dolar.csv'\n",
    "prev_price_petro = 'camada_ouro/comparison_real_vs_preds_vs_erros_Petro.csv'\n",
    "\n",
    "# Carregar os arquivos CSV\n",
    "join_df = pd.read_csv(join_file_path)\n",
    "prev_real = pd.read_csv(prev_close_real)\n",
    "prev_dolar = pd.read_csv(prev_close_dolar)\n",
    "prev_petro = pd.read_csv(prev_price_petro)"
   ]
  },
  {
   "cell_type": "code",
   "execution_count": 72,
   "metadata": {},
   "outputs": [
    {
     "name": "stdout",
     "output_type": "stream",
     "text": [
      "<class 'pandas.core.frame.DataFrame'>\n",
      "RangeIndex: 180 entries, 0 to 179\n",
      "Data columns (total 11 columns):\n",
      " #   Column             Non-Null Count  Dtype  \n",
      "---  ------             --------------  -----  \n",
      " 0   Date               180 non-null    object \n",
      " 1   Close_Real_EYAC2   180 non-null    float64\n",
      " 2   Volume_EYAC2       180 non-null    float64\n",
      " 3   Close_Dolar_EYAC2  180 non-null    float64\n",
      " 4   Price_Dolar_Petro  180 non-null    float64\n",
      " 5   Volume_Petro       180 non-null    float64\n",
      " 6   Índice_Ibovespa    180 non-null    float64\n",
      " 7   Year-Month         180 non-null    object \n",
      " 8   Value_IPCA         180 non-null    object \n",
      " 9   Inflac_IPCA        180 non-null    float64\n",
      " 10  IPCA_Acumulado     180 non-null    float64\n",
      "dtypes: float64(8), object(3)\n",
      "memory usage: 15.6+ KB\n"
     ]
    }
   ],
   "source": [
    "join_df.info()"
   ]
  },
  {
   "cell_type": "code",
   "execution_count": 73,
   "metadata": {},
   "outputs": [
    {
     "name": "stdout",
     "output_type": "stream",
     "text": [
      "<class 'pandas.core.frame.DataFrame'>\n",
      "RangeIndex: 35 entries, 0 to 34\n",
      "Data columns (total 4 columns):\n",
      " #   Column            Non-Null Count  Dtype  \n",
      "---  ------            --------------  -----  \n",
      " 0   Date              35 non-null     object \n",
      " 1   target_Real       35 non-null     float64\n",
      " 2   target_Predicted  35 non-null     float64\n",
      " 3   percentual_erro   35 non-null     float64\n",
      "dtypes: float64(3), object(1)\n",
      "memory usage: 1.2+ KB\n"
     ]
    }
   ],
   "source": [
    "prev_real.info()"
   ]
  },
  {
   "cell_type": "code",
   "execution_count": 74,
   "metadata": {},
   "outputs": [
    {
     "data": {
      "text/html": [
       "<div>\n",
       "<style scoped>\n",
       "    .dataframe tbody tr th:only-of-type {\n",
       "        vertical-align: middle;\n",
       "    }\n",
       "\n",
       "    .dataframe tbody tr th {\n",
       "        vertical-align: top;\n",
       "    }\n",
       "\n",
       "    .dataframe thead th {\n",
       "        text-align: right;\n",
       "    }\n",
       "</style>\n",
       "<table border=\"1\" class=\"dataframe\">\n",
       "  <thead>\n",
       "    <tr style=\"text-align: right;\">\n",
       "      <th></th>\n",
       "      <th>Date</th>\n",
       "      <th>target_Real</th>\n",
       "      <th>target_Predicted</th>\n",
       "      <th>percentual_erro</th>\n",
       "    </tr>\n",
       "  </thead>\n",
       "  <tbody>\n",
       "    <tr>\n",
       "      <th>0</th>\n",
       "      <td>2022-01-31</td>\n",
       "      <td>34,42127725</td>\n",
       "      <td>33,2069701953392</td>\n",
       "      <td>3,5277803488852237</td>\n",
       "    </tr>\n",
       "    <tr>\n",
       "      <th>1</th>\n",
       "      <td>2022-02-25</td>\n",
       "      <td>33,02555447</td>\n",
       "      <td>33,57244957492401</td>\n",
       "      <td>1,6559755428808844</td>\n",
       "    </tr>\n",
       "  </tbody>\n",
       "</table>\n",
       "</div>"
      ],
      "text/plain": [
       "         Date  target_Real   target_Predicted     percentual_erro\n",
       "0  2022-01-31  34,42127725   33,2069701953392  3,5277803488852237\n",
       "1  2022-02-25  33,02555447  33,57244957492401  1,6559755428808844"
      ]
     },
     "execution_count": 74,
     "metadata": {},
     "output_type": "execute_result"
    }
   ],
   "source": [
    "colunas =['target_Real', 'target_Predicted', 'percentual_erro']\n",
    "\n",
    "prev_real[colunas] = prev_real[colunas].astype(\"str\")\n",
    "\n",
    "prev_real[colunas] = prev_real[colunas].map(lambda x: x.replace(\".\",\",\"))\n",
    "\n",
    "prev_real.head(2)"
   ]
  },
  {
   "cell_type": "code",
   "execution_count": 75,
   "metadata": {},
   "outputs": [
    {
     "name": "stdout",
     "output_type": "stream",
     "text": [
      "<class 'pandas.core.frame.DataFrame'>\n",
      "RangeIndex: 35 entries, 0 to 34\n",
      "Data columns (total 4 columns):\n",
      " #   Column            Non-Null Count  Dtype  \n",
      "---  ------            --------------  -----  \n",
      " 0   Date              35 non-null     object \n",
      " 1   target_Real       35 non-null     float64\n",
      " 2   target_Predicted  35 non-null     float64\n",
      " 3   percentual_erro   35 non-null     float64\n",
      "dtypes: float64(3), object(1)\n",
      "memory usage: 1.2+ KB\n"
     ]
    }
   ],
   "source": [
    "prev_dolar.info()"
   ]
  },
  {
   "cell_type": "code",
   "execution_count": 76,
   "metadata": {},
   "outputs": [
    {
     "data": {
      "text/html": [
       "<div>\n",
       "<style scoped>\n",
       "    .dataframe tbody tr th:only-of-type {\n",
       "        vertical-align: middle;\n",
       "    }\n",
       "\n",
       "    .dataframe tbody tr th {\n",
       "        vertical-align: top;\n",
       "    }\n",
       "\n",
       "    .dataframe thead th {\n",
       "        text-align: right;\n",
       "    }\n",
       "</style>\n",
       "<table border=\"1\" class=\"dataframe\">\n",
       "  <thead>\n",
       "    <tr style=\"text-align: right;\">\n",
       "      <th></th>\n",
       "      <th>Date</th>\n",
       "      <th>target_Real</th>\n",
       "      <th>target_Predicted</th>\n",
       "      <th>percentual_erro</th>\n",
       "    </tr>\n",
       "  </thead>\n",
       "  <tbody>\n",
       "    <tr>\n",
       "      <th>0</th>\n",
       "      <td>2022-01-31</td>\n",
       "      <td>6,489193358344017</td>\n",
       "      <td>6,923172643829433</td>\n",
       "      <td>6,687723134762071</td>\n",
       "    </tr>\n",
       "    <tr>\n",
       "      <th>1</th>\n",
       "      <td>2022-02-25</td>\n",
       "      <td>5,782088427263337</td>\n",
       "      <td>6,914152999514766</td>\n",
       "      <td>19,578818042864757</td>\n",
       "    </tr>\n",
       "  </tbody>\n",
       "</table>\n",
       "</div>"
      ],
      "text/plain": [
       "         Date        target_Real   target_Predicted     percentual_erro\n",
       "0  2022-01-31  6,489193358344017  6,923172643829433   6,687723134762071\n",
       "1  2022-02-25  5,782088427263337  6,914152999514766  19,578818042864757"
      ]
     },
     "execution_count": 76,
     "metadata": {},
     "output_type": "execute_result"
    }
   ],
   "source": [
    "colunas =['target_Real', 'target_Predicted', 'percentual_erro']\n",
    "\n",
    "prev_dolar[colunas] = prev_dolar[colunas].astype(\"str\")\n",
    "\n",
    "prev_dolar[colunas] = prev_dolar[colunas].map(lambda x: x.replace(\".\",\",\"))\n",
    "\n",
    "prev_dolar.head(2)"
   ]
  },
  {
   "cell_type": "code",
   "execution_count": 77,
   "metadata": {},
   "outputs": [
    {
     "name": "stdout",
     "output_type": "stream",
     "text": [
      "<class 'pandas.core.frame.DataFrame'>\n",
      "RangeIndex: 35 entries, 0 to 34\n",
      "Data columns (total 4 columns):\n",
      " #   Column            Non-Null Count  Dtype  \n",
      "---  ------            --------------  -----  \n",
      " 0   Date              35 non-null     object \n",
      " 1   target_Real       35 non-null     float64\n",
      " 2   target_Predicted  35 non-null     float64\n",
      " 3   percentual_erro   35 non-null     float64\n",
      "dtypes: float64(3), object(1)\n",
      "memory usage: 1.2+ KB\n"
     ]
    }
   ],
   "source": [
    "prev_petro.info()"
   ]
  },
  {
   "cell_type": "code",
   "execution_count": 78,
   "metadata": {},
   "outputs": [
    {
     "data": {
      "text/html": [
       "<div>\n",
       "<style scoped>\n",
       "    .dataframe tbody tr th:only-of-type {\n",
       "        vertical-align: middle;\n",
       "    }\n",
       "\n",
       "    .dataframe tbody tr th {\n",
       "        vertical-align: top;\n",
       "    }\n",
       "\n",
       "    .dataframe thead th {\n",
       "        text-align: right;\n",
       "    }\n",
       "</style>\n",
       "<table border=\"1\" class=\"dataframe\">\n",
       "  <thead>\n",
       "    <tr style=\"text-align: right;\">\n",
       "      <th></th>\n",
       "      <th>Date</th>\n",
       "      <th>target_Real</th>\n",
       "      <th>target_Predicted</th>\n",
       "      <th>percentual_erro</th>\n",
       "    </tr>\n",
       "  </thead>\n",
       "  <tbody>\n",
       "    <tr>\n",
       "      <th>0</th>\n",
       "      <td>2022-01-31</td>\n",
       "      <td>89,89</td>\n",
       "      <td>82,14292240000296</td>\n",
       "      <td>8,618397597059786</td>\n",
       "    </tr>\n",
       "    <tr>\n",
       "      <th>1</th>\n",
       "      <td>2022-02-25</td>\n",
       "      <td>98,52</td>\n",
       "      <td>81,51242667874808</td>\n",
       "      <td>17,263066708538275</td>\n",
       "    </tr>\n",
       "  </tbody>\n",
       "</table>\n",
       "</div>"
      ],
      "text/plain": [
       "         Date target_Real   target_Predicted     percentual_erro\n",
       "0  2022-01-31       89,89  82,14292240000296   8,618397597059786\n",
       "1  2022-02-25       98,52  81,51242667874808  17,263066708538275"
      ]
     },
     "execution_count": 78,
     "metadata": {},
     "output_type": "execute_result"
    }
   ],
   "source": [
    "colunas =['target_Real', 'target_Predicted', 'percentual_erro']\n",
    "\n",
    "prev_petro[colunas] = prev_petro[colunas].astype(\"str\")\n",
    "\n",
    "prev_petro[colunas] = prev_petro[colunas].map(lambda x: x.replace(\".\",\",\"))\n",
    "\n",
    "prev_petro.head(2)"
   ]
  },
  {
   "cell_type": "code",
   "execution_count": 79,
   "metadata": {},
   "outputs": [
    {
     "data": {
      "text/html": [
       "<div>\n",
       "<style scoped>\n",
       "    .dataframe tbody tr th:only-of-type {\n",
       "        vertical-align: middle;\n",
       "    }\n",
       "\n",
       "    .dataframe tbody tr th {\n",
       "        vertical-align: top;\n",
       "    }\n",
       "\n",
       "    .dataframe thead th {\n",
       "        text-align: right;\n",
       "    }\n",
       "</style>\n",
       "<table border=\"1\" class=\"dataframe\">\n",
       "  <thead>\n",
       "    <tr style=\"text-align: right;\">\n",
       "      <th></th>\n",
       "      <th>Date</th>\n",
       "      <th>Close_Real_EYAC2</th>\n",
       "      <th>Volume_EYAC2</th>\n",
       "      <th>Close_Dolar_EYAC2</th>\n",
       "      <th>Price_Dolar_Petro</th>\n",
       "      <th>Volume_Petro</th>\n",
       "      <th>Índice_Ibovespa</th>\n",
       "      <th>Year-Month</th>\n",
       "      <th>Value_IPCA</th>\n",
       "      <th>Inflac_IPCA</th>\n",
       "      <th>IPCA_Acumulado</th>\n",
       "    </tr>\n",
       "  </thead>\n",
       "  <tbody>\n",
       "    <tr>\n",
       "      <th>0</th>\n",
       "      <td>2010-01-29</td>\n",
       "      <td>33.935703</td>\n",
       "      <td>16106857.97</td>\n",
       "      <td>18.284323</td>\n",
       "      <td>72.89</td>\n",
       "      <td>335.27</td>\n",
       "      <td>65401.77</td>\n",
       "      <td>2010-1</td>\n",
       "      <td>0.75%</td>\n",
       "      <td>0.75</td>\n",
       "      <td>4.312028</td>\n",
       "    </tr>\n",
       "    <tr>\n",
       "      <th>1</th>\n",
       "      <td>2010-02-26</td>\n",
       "      <td>31.895180</td>\n",
       "      <td>17804380.32</td>\n",
       "      <td>17.368318</td>\n",
       "      <td>79.66</td>\n",
       "      <td>319.04</td>\n",
       "      <td>66503.27</td>\n",
       "      <td>2010-2</td>\n",
       "      <td>0.78%</td>\n",
       "      <td>0.78</td>\n",
       "      <td>4.592325</td>\n",
       "    </tr>\n",
       "  </tbody>\n",
       "</table>\n",
       "</div>"
      ],
      "text/plain": [
       "         Date  Close_Real_EYAC2  Volume_EYAC2  Close_Dolar_EYAC2  \\\n",
       "0  2010-01-29         33.935703   16106857.97          18.284323   \n",
       "1  2010-02-26         31.895180   17804380.32          17.368318   \n",
       "\n",
       "   Price_Dolar_Petro  Volume_Petro  Índice_Ibovespa Year-Month Value_IPCA  \\\n",
       "0              72.89        335.27         65401.77     2010-1      0.75%   \n",
       "1              79.66        319.04         66503.27     2010-2      0.78%   \n",
       "\n",
       "   Inflac_IPCA  IPCA_Acumulado  \n",
       "0         0.75        4.312028  \n",
       "1         0.78        4.592325  "
      ]
     },
     "execution_count": 79,
     "metadata": {},
     "output_type": "execute_result"
    }
   ],
   "source": [
    "join_df.head(2)"
   ]
  },
  {
   "cell_type": "code",
   "execution_count": 80,
   "metadata": {},
   "outputs": [],
   "source": [
    "# Remoção de coluna\n",
    "join_df = join_df.drop(columns=['Value_IPCA'])"
   ]
  },
  {
   "cell_type": "code",
   "execution_count": 81,
   "metadata": {},
   "outputs": [
    {
     "data": {
      "text/html": [
       "<div>\n",
       "<style scoped>\n",
       "    .dataframe tbody tr th:only-of-type {\n",
       "        vertical-align: middle;\n",
       "    }\n",
       "\n",
       "    .dataframe tbody tr th {\n",
       "        vertical-align: top;\n",
       "    }\n",
       "\n",
       "    .dataframe thead th {\n",
       "        text-align: right;\n",
       "    }\n",
       "</style>\n",
       "<table border=\"1\" class=\"dataframe\">\n",
       "  <thead>\n",
       "    <tr style=\"text-align: right;\">\n",
       "      <th></th>\n",
       "      <th>Date</th>\n",
       "      <th>Close_Real_EYAC2</th>\n",
       "      <th>Volume_EYAC2</th>\n",
       "      <th>Close_Dolar_EYAC2</th>\n",
       "      <th>Price_Dolar_Petro</th>\n",
       "      <th>Volume_Petro</th>\n",
       "      <th>Índice_Ibovespa</th>\n",
       "      <th>Year-Month</th>\n",
       "      <th>Inflac_IPCA</th>\n",
       "      <th>IPCA_Acumulado</th>\n",
       "    </tr>\n",
       "  </thead>\n",
       "  <tbody>\n",
       "    <tr>\n",
       "      <th>0</th>\n",
       "      <td>2010-01-29</td>\n",
       "      <td>33.935703</td>\n",
       "      <td>16106857.97</td>\n",
       "      <td>18.284323</td>\n",
       "      <td>72.89</td>\n",
       "      <td>335.27</td>\n",
       "      <td>65401.77</td>\n",
       "      <td>2010-1</td>\n",
       "      <td>0.75</td>\n",
       "      <td>4.312028</td>\n",
       "    </tr>\n",
       "    <tr>\n",
       "      <th>1</th>\n",
       "      <td>2010-02-26</td>\n",
       "      <td>31.895180</td>\n",
       "      <td>17804380.32</td>\n",
       "      <td>17.368318</td>\n",
       "      <td>79.66</td>\n",
       "      <td>319.04</td>\n",
       "      <td>66503.27</td>\n",
       "      <td>2010-2</td>\n",
       "      <td>0.78</td>\n",
       "      <td>4.592325</td>\n",
       "    </tr>\n",
       "  </tbody>\n",
       "</table>\n",
       "</div>"
      ],
      "text/plain": [
       "         Date  Close_Real_EYAC2  Volume_EYAC2  Close_Dolar_EYAC2  \\\n",
       "0  2010-01-29         33.935703   16106857.97          18.284323   \n",
       "1  2010-02-26         31.895180   17804380.32          17.368318   \n",
       "\n",
       "   Price_Dolar_Petro  Volume_Petro  Índice_Ibovespa Year-Month  Inflac_IPCA  \\\n",
       "0              72.89        335.27         65401.77     2010-1         0.75   \n",
       "1              79.66        319.04         66503.27     2010-2         0.78   \n",
       "\n",
       "   IPCA_Acumulado  \n",
       "0        4.312028  \n",
       "1        4.592325  "
      ]
     },
     "execution_count": 81,
     "metadata": {},
     "output_type": "execute_result"
    }
   ],
   "source": [
    "join_df.head(2)"
   ]
  },
  {
   "cell_type": "code",
   "execution_count": 82,
   "metadata": {},
   "outputs": [],
   "source": [
    "colunas =['Close_Real_EYAC2', 'Volume_EYAC2', 'Close_Dolar_EYAC2',\n",
    "       'Price_Dolar_Petro', 'Volume_Petro', 'Índice_Ibovespa', 'Inflac_IPCA',\n",
    "       'IPCA_Acumulado']\n",
    "\n",
    "join_df[colunas] = join_df[colunas].astype(\"str\")"
   ]
  },
  {
   "cell_type": "code",
   "execution_count": 83,
   "metadata": {},
   "outputs": [
    {
     "name": "stdout",
     "output_type": "stream",
     "text": [
      "<class 'pandas.core.frame.DataFrame'>\n",
      "RangeIndex: 180 entries, 0 to 179\n",
      "Data columns (total 10 columns):\n",
      " #   Column             Non-Null Count  Dtype \n",
      "---  ------             --------------  ----- \n",
      " 0   Date               180 non-null    object\n",
      " 1   Close_Real_EYAC2   180 non-null    object\n",
      " 2   Volume_EYAC2       180 non-null    object\n",
      " 3   Close_Dolar_EYAC2  180 non-null    object\n",
      " 4   Price_Dolar_Petro  180 non-null    object\n",
      " 5   Volume_Petro       180 non-null    object\n",
      " 6   Índice_Ibovespa    180 non-null    object\n",
      " 7   Year-Month         180 non-null    object\n",
      " 8   Inflac_IPCA        180 non-null    object\n",
      " 9   IPCA_Acumulado     180 non-null    object\n",
      "dtypes: object(10)\n",
      "memory usage: 14.2+ KB\n"
     ]
    }
   ],
   "source": [
    "join_df.info()"
   ]
  },
  {
   "cell_type": "code",
   "execution_count": 84,
   "metadata": {},
   "outputs": [],
   "source": [
    "join_df[colunas] = join_df[colunas].map(lambda x: x.replace(\".\",\",\"))"
   ]
  },
  {
   "cell_type": "code",
   "execution_count": 85,
   "metadata": {},
   "outputs": [
    {
     "data": {
      "text/html": [
       "<div>\n",
       "<style scoped>\n",
       "    .dataframe tbody tr th:only-of-type {\n",
       "        vertical-align: middle;\n",
       "    }\n",
       "\n",
       "    .dataframe tbody tr th {\n",
       "        vertical-align: top;\n",
       "    }\n",
       "\n",
       "    .dataframe thead th {\n",
       "        text-align: right;\n",
       "    }\n",
       "</style>\n",
       "<table border=\"1\" class=\"dataframe\">\n",
       "  <thead>\n",
       "    <tr style=\"text-align: right;\">\n",
       "      <th></th>\n",
       "      <th>Date</th>\n",
       "      <th>Close_Real_EYAC2</th>\n",
       "      <th>Volume_EYAC2</th>\n",
       "      <th>Close_Dolar_EYAC2</th>\n",
       "      <th>Price_Dolar_Petro</th>\n",
       "      <th>Volume_Petro</th>\n",
       "      <th>Índice_Ibovespa</th>\n",
       "      <th>Year-Month</th>\n",
       "      <th>Inflac_IPCA</th>\n",
       "      <th>IPCA_Acumulado</th>\n",
       "    </tr>\n",
       "  </thead>\n",
       "  <tbody>\n",
       "    <tr>\n",
       "      <th>0</th>\n",
       "      <td>2010-01-29</td>\n",
       "      <td>33,93570267</td>\n",
       "      <td>16106857,97</td>\n",
       "      <td>18,28432255926724</td>\n",
       "      <td>72,89</td>\n",
       "      <td>335,27</td>\n",
       "      <td>65401,77</td>\n",
       "      <td>2010-1</td>\n",
       "      <td>0,75</td>\n",
       "      <td>4,312028329689976</td>\n",
       "    </tr>\n",
       "    <tr>\n",
       "      <th>1</th>\n",
       "      <td>2010-02-26</td>\n",
       "      <td>31,8951796</td>\n",
       "      <td>17804380,32</td>\n",
       "      <td>17,36831823132215</td>\n",
       "      <td>79,66</td>\n",
       "      <td>319,04</td>\n",
       "      <td>66503,27</td>\n",
       "      <td>2010-2</td>\n",
       "      <td>0,78</td>\n",
       "      <td>4,59232538033707</td>\n",
       "    </tr>\n",
       "    <tr>\n",
       "      <th>2</th>\n",
       "      <td>2010-03-31</td>\n",
       "      <td>37,11439121</td>\n",
       "      <td>16551869,4</td>\n",
       "      <td>20,546053592781224</td>\n",
       "      <td>83,76</td>\n",
       "      <td>371,96</td>\n",
       "      <td>70371,54</td>\n",
       "      <td>2010-3</td>\n",
       "      <td>0,52</td>\n",
       "      <td>4,831571873002205</td>\n",
       "    </tr>\n",
       "    <tr>\n",
       "      <th>3</th>\n",
       "      <td>2010-04-30</td>\n",
       "      <td>30,47405338</td>\n",
       "      <td>15688008,79</td>\n",
       "      <td>17,322677000909504</td>\n",
       "      <td>86,15</td>\n",
       "      <td>392,14</td>\n",
       "      <td>67529,73</td>\n",
       "      <td>2010-4</td>\n",
       "      <td>0,57</td>\n",
       "      <td>5,166363320101608</td>\n",
       "    </tr>\n",
       "    <tr>\n",
       "      <th>4</th>\n",
       "      <td>2010-05-28</td>\n",
       "      <td>29,27274015</td>\n",
       "      <td>20301487,26</td>\n",
       "      <td>15,80430847100745</td>\n",
       "      <td>73,97</td>\n",
       "      <td>420,67</td>\n",
       "      <td>61946,99</td>\n",
       "      <td>2010-5</td>\n",
       "      <td>0,43</td>\n",
       "      <td>5,260560898712385</td>\n",
       "    </tr>\n",
       "  </tbody>\n",
       "</table>\n",
       "</div>"
      ],
      "text/plain": [
       "         Date Close_Real_EYAC2 Volume_EYAC2   Close_Dolar_EYAC2  \\\n",
       "0  2010-01-29      33,93570267  16106857,97   18,28432255926724   \n",
       "1  2010-02-26       31,8951796  17804380,32   17,36831823132215   \n",
       "2  2010-03-31      37,11439121   16551869,4  20,546053592781224   \n",
       "3  2010-04-30      30,47405338  15688008,79  17,322677000909504   \n",
       "4  2010-05-28      29,27274015  20301487,26   15,80430847100745   \n",
       "\n",
       "  Price_Dolar_Petro Volume_Petro Índice_Ibovespa Year-Month Inflac_IPCA  \\\n",
       "0             72,89       335,27        65401,77     2010-1        0,75   \n",
       "1             79,66       319,04        66503,27     2010-2        0,78   \n",
       "2             83,76       371,96        70371,54     2010-3        0,52   \n",
       "3             86,15       392,14        67529,73     2010-4        0,57   \n",
       "4             73,97       420,67        61946,99     2010-5        0,43   \n",
       "\n",
       "      IPCA_Acumulado  \n",
       "0  4,312028329689976  \n",
       "1   4,59232538033707  \n",
       "2  4,831571873002205  \n",
       "3  5,166363320101608  \n",
       "4  5,260560898712385  "
      ]
     },
     "execution_count": 85,
     "metadata": {},
     "output_type": "execute_result"
    }
   ],
   "source": [
    "join_df.head()"
   ]
  },
  {
   "cell_type": "code",
   "execution_count": 86,
   "metadata": {},
   "outputs": [
    {
     "name": "stdout",
     "output_type": "stream",
     "text": [
      "Dados enviados com sucesso para o banco de dados!\n"
     ]
    }
   ],
   "source": [
    "# Enviar os DataFrames para o PostgreSQL\n",
    "join_df.to_sql('join_dataframe', con=engine, if_exists='replace', index=False)\n",
    "prev_real.to_sql('prev_real', con=engine, if_exists='replace', index=False)\n",
    "prev_dolar.to_sql('prev_dolar', con=engine, if_exists='replace', index=False)\n",
    "prev_petro.to_sql('prev_petro', con=engine, if_exists='replace', index=False)\n",
    "\n",
    "print(\"Dados enviados com sucesso para o banco de dados!\")"
   ]
  }
 ],
 "metadata": {
  "kernelspec": {
   "display_name": "Python 3",
   "language": "python",
   "name": "python3"
  },
  "language_info": {
   "codemirror_mode": {
    "name": "ipython",
    "version": 3
   },
   "file_extension": ".py",
   "mimetype": "text/x-python",
   "name": "python",
   "nbconvert_exporter": "python",
   "pygments_lexer": "ipython3",
   "version": "3.13.2"
  }
 },
 "nbformat": 4,
 "nbformat_minor": 2
}
