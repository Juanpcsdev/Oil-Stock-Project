{
 "cells": [
  {
   "cell_type": "code",
   "execution_count": 214,
   "metadata": {},
   "outputs": [],
   "source": [
    "import pandas as pd\n",
    "import requests"
   ]
  },
  {
   "cell_type": "code",
   "execution_count": 215,
   "metadata": {},
   "outputs": [],
   "source": [
    "df = pd.read_csv(\"../../camada_bronze/acao_petroleo.csv\", delimiter=\";\")"
   ]
  },
  {
   "cell_type": "code",
   "execution_count": 216,
   "metadata": {},
   "outputs": [
    {
     "data": {
      "text/html": [
       "<div>\n",
       "<style scoped>\n",
       "    .dataframe tbody tr th:only-of-type {\n",
       "        vertical-align: middle;\n",
       "    }\n",
       "\n",
       "    .dataframe tbody tr th {\n",
       "        vertical-align: top;\n",
       "    }\n",
       "\n",
       "    .dataframe thead th {\n",
       "        text-align: right;\n",
       "    }\n",
       "</style>\n",
       "<table border=\"1\" class=\"dataframe\">\n",
       "  <thead>\n",
       "    <tr style=\"text-align: right;\">\n",
       "      <th></th>\n",
       "      <th>Date</th>\n",
       "      <th>Open</th>\n",
       "      <th>High</th>\n",
       "      <th>Low</th>\n",
       "      <th>Close</th>\n",
       "      <th>Volume</th>\n",
       "    </tr>\n",
       "  </thead>\n",
       "  <tbody>\n",
       "    <tr>\n",
       "      <th>0</th>\n",
       "      <td>2010-01-04 16:56:00</td>\n",
       "      <td>37,56762146</td>\n",
       "      <td>37,93762146</td>\n",
       "      <td>37,43762146</td>\n",
       "      <td>37,93762146</td>\n",
       "      <td>13303743,87</td>\n",
       "    </tr>\n",
       "    <tr>\n",
       "      <th>1</th>\n",
       "      <td>2010-01-05 16:56:00</td>\n",
       "      <td>38,15421972</td>\n",
       "      <td>38,20421972</td>\n",
       "      <td>37,57421972</td>\n",
       "      <td>37,77421972</td>\n",
       "      <td>21396519,48</td>\n",
       "    </tr>\n",
       "    <tr>\n",
       "      <th>2</th>\n",
       "      <td>2010-01-06 16:56:00</td>\n",
       "      <td>38,10535714</td>\n",
       "      <td>38,80535714</td>\n",
       "      <td>38,10535714</td>\n",
       "      <td>38,80535714</td>\n",
       "      <td>18720547,15</td>\n",
       "    </tr>\n",
       "    <tr>\n",
       "      <th>3</th>\n",
       "      <td>2010-01-07 16:56:00</td>\n",
       "      <td>36,54592902</td>\n",
       "      <td>36,72592902</td>\n",
       "      <td>36,34592902</td>\n",
       "      <td>36,42592902</td>\n",
       "      <td>10964646,19</td>\n",
       "    </tr>\n",
       "    <tr>\n",
       "      <th>4</th>\n",
       "      <td>2010-01-08 16:56:00</td>\n",
       "      <td>35,24778748</td>\n",
       "      <td>35,47778748</td>\n",
       "      <td>34,94778748</td>\n",
       "      <td>35,03778748</td>\n",
       "      <td>14624078,31</td>\n",
       "    </tr>\n",
       "    <tr>\n",
       "      <th>...</th>\n",
       "      <td>...</td>\n",
       "      <td>...</td>\n",
       "      <td>...</td>\n",
       "      <td>...</td>\n",
       "      <td>...</td>\n",
       "      <td>...</td>\n",
       "    </tr>\n",
       "    <tr>\n",
       "      <th>3647</th>\n",
       "      <td>2024-12-20 16:56:00</td>\n",
       "      <td>39,15559512</td>\n",
       "      <td>39,34559512</td>\n",
       "      <td>38,70559512</td>\n",
       "      <td>38,84559512</td>\n",
       "      <td>59277431,74</td>\n",
       "    </tr>\n",
       "    <tr>\n",
       "      <th>3648</th>\n",
       "      <td>2024-12-23 16:56:00</td>\n",
       "      <td>39,46015699</td>\n",
       "      <td>39,51015699</td>\n",
       "      <td>39,18015699</td>\n",
       "      <td>39,32015699</td>\n",
       "      <td>43785532,81</td>\n",
       "    </tr>\n",
       "    <tr>\n",
       "      <th>3649</th>\n",
       "      <td>2024-12-26 16:56:00</td>\n",
       "      <td>37,72760865</td>\n",
       "      <td>38,09760865</td>\n",
       "      <td>37,69760865</td>\n",
       "      <td>37,86760865</td>\n",
       "      <td>22920777,53</td>\n",
       "    </tr>\n",
       "    <tr>\n",
       "      <th>3650</th>\n",
       "      <td>2024-12-27 16:56:00</td>\n",
       "      <td>36,4068181</td>\n",
       "      <td>36,4068181</td>\n",
       "      <td>36,0168181</td>\n",
       "      <td>36,0668181</td>\n",
       "      <td>24167282,36</td>\n",
       "    </tr>\n",
       "    <tr>\n",
       "      <th>3651</th>\n",
       "      <td>2024-12-30 16:56:00</td>\n",
       "      <td>36,20422281</td>\n",
       "      <td>36,79422281</td>\n",
       "      <td>36,19422281</td>\n",
       "      <td>36,61422281</td>\n",
       "      <td>22355586,67</td>\n",
       "    </tr>\n",
       "  </tbody>\n",
       "</table>\n",
       "<p>3652 rows × 6 columns</p>\n",
       "</div>"
      ],
      "text/plain": [
       "                     Date         Open         High          Low        Close  \\\n",
       "0     2010-01-04 16:56:00  37,56762146  37,93762146  37,43762146  37,93762146   \n",
       "1     2010-01-05 16:56:00  38,15421972  38,20421972  37,57421972  37,77421972   \n",
       "2     2010-01-06 16:56:00  38,10535714  38,80535714  38,10535714  38,80535714   \n",
       "3     2010-01-07 16:56:00  36,54592902  36,72592902  36,34592902  36,42592902   \n",
       "4     2010-01-08 16:56:00  35,24778748  35,47778748  34,94778748  35,03778748   \n",
       "...                   ...          ...          ...          ...          ...   \n",
       "3647  2024-12-20 16:56:00  39,15559512  39,34559512  38,70559512  38,84559512   \n",
       "3648  2024-12-23 16:56:00  39,46015699  39,51015699  39,18015699  39,32015699   \n",
       "3649  2024-12-26 16:56:00  37,72760865  38,09760865  37,69760865  37,86760865   \n",
       "3650  2024-12-27 16:56:00   36,4068181   36,4068181   36,0168181   36,0668181   \n",
       "3651  2024-12-30 16:56:00  36,20422281  36,79422281  36,19422281  36,61422281   \n",
       "\n",
       "           Volume  \n",
       "0     13303743,87  \n",
       "1     21396519,48  \n",
       "2     18720547,15  \n",
       "3     10964646,19  \n",
       "4     14624078,31  \n",
       "...           ...  \n",
       "3647  59277431,74  \n",
       "3648  43785532,81  \n",
       "3649  22920777,53  \n",
       "3650  24167282,36  \n",
       "3651  22355586,67  \n",
       "\n",
       "[3652 rows x 6 columns]"
      ]
     },
     "metadata": {},
     "output_type": "display_data"
    }
   ],
   "source": [
    "display(df)"
   ]
  },
  {
   "cell_type": "code",
   "execution_count": 217,
   "metadata": {},
   "outputs": [
    {
     "data": {
      "text/plain": [
       "Date      0\n",
       "Open      0\n",
       "High      0\n",
       "Low       0\n",
       "Close     0\n",
       "Volume    0\n",
       "dtype: int64"
      ]
     },
     "execution_count": 217,
     "metadata": {},
     "output_type": "execute_result"
    }
   ],
   "source": [
    "df.isna().sum()"
   ]
  },
  {
   "cell_type": "code",
   "execution_count": 218,
   "metadata": {},
   "outputs": [],
   "source": [
    "df = df.fillna(0)"
   ]
  },
  {
   "cell_type": "code",
   "execution_count": 219,
   "metadata": {},
   "outputs": [],
   "source": [
    "df = df.drop_duplicates()"
   ]
  },
  {
   "cell_type": "code",
   "execution_count": 220,
   "metadata": {},
   "outputs": [],
   "source": [
    "df = df.map(lambda x: x.strip() if isinstance(x, str) else x)"
   ]
  },
  {
   "cell_type": "code",
   "execution_count": 221,
   "metadata": {},
   "outputs": [
    {
     "name": "stdout",
     "output_type": "stream",
     "text": [
      "<class 'pandas.core.frame.DataFrame'>\n",
      "RangeIndex: 3652 entries, 0 to 3651\n",
      "Data columns (total 6 columns):\n",
      " #   Column  Non-Null Count  Dtype \n",
      "---  ------  --------------  ----- \n",
      " 0   Date    3652 non-null   object\n",
      " 1   Open    3652 non-null   object\n",
      " 2   High    3652 non-null   object\n",
      " 3   Low     3652 non-null   object\n",
      " 4   Close   3652 non-null   object\n",
      " 5   Volume  3652 non-null   object\n",
      "dtypes: object(6)\n",
      "memory usage: 171.3+ KB\n"
     ]
    }
   ],
   "source": [
    "df.info()"
   ]
  },
  {
   "cell_type": "code",
   "execution_count": 222,
   "metadata": {},
   "outputs": [],
   "source": [
    "colunas = [\"Open\",\"High\",\"Low\",\"Close\",\"Volume\"]\n",
    "\n",
    "df[colunas] = df[colunas].map(lambda x: x.replace(\",\",\".\"))"
   ]
  },
  {
   "cell_type": "code",
   "execution_count": 223,
   "metadata": {},
   "outputs": [],
   "source": [
    "df[colunas] = df[colunas].apply(lambda x: pd.to_numeric(x))"
   ]
  },
  {
   "cell_type": "code",
   "execution_count": 224,
   "metadata": {},
   "outputs": [],
   "source": [
    "df[\"Date\"] = pd.to_datetime(df[\"Date\"])"
   ]
  },
  {
   "cell_type": "code",
   "execution_count": 225,
   "metadata": {},
   "outputs": [
    {
     "name": "stdout",
     "output_type": "stream",
     "text": [
      "<class 'pandas.core.frame.DataFrame'>\n",
      "RangeIndex: 3652 entries, 0 to 3651\n",
      "Data columns (total 6 columns):\n",
      " #   Column  Non-Null Count  Dtype         \n",
      "---  ------  --------------  -----         \n",
      " 0   Date    3652 non-null   datetime64[ns]\n",
      " 1   Open    3652 non-null   float64       \n",
      " 2   High    3652 non-null   float64       \n",
      " 3   Low     3652 non-null   float64       \n",
      " 4   Close   3652 non-null   float64       \n",
      " 5   Volume  3652 non-null   float64       \n",
      "dtypes: datetime64[ns](1), float64(5)\n",
      "memory usage: 171.3 KB\n"
     ]
    }
   ],
   "source": [
    "df.info()"
   ]
  },
  {
   "cell_type": "code",
   "execution_count": 226,
   "metadata": {},
   "outputs": [],
   "source": [
    "df = df.rename(columns={\"Date\":\"Datetime\"})"
   ]
  },
  {
   "cell_type": "code",
   "execution_count": 227,
   "metadata": {},
   "outputs": [],
   "source": [
    "df[\"Date\"] = df[\"Datetime\"].dt.date"
   ]
  },
  {
   "cell_type": "code",
   "execution_count": 228,
   "metadata": {},
   "outputs": [],
   "source": [
    "last_column = df.columns[-1]\n",
    "df = df[[last_column] + [col for col in df.columns if col != last_column]]"
   ]
  },
  {
   "cell_type": "code",
   "execution_count": 229,
   "metadata": {},
   "outputs": [],
   "source": [
    "#Função para coletar dados da cotação do dólar em determinado tempo através de uma API\n",
    "\n",
    "def get_cotacao_dolar(data):\n",
    "    \n",
    "    if isinstance(data, str):\n",
    "        data = pd.to_datetime(data)\n",
    "\n",
    "    #Converte o Timestamp para string no formato DD-MM-YYYY\n",
    "    data_inicial = f\"{data.iloc[0].day}/{data.iloc[0].month}/{data.iloc[0].year}\"\n",
    "    data_final = f\"{data.iloc[-1].day}/{data.iloc[-1].month}/{data.iloc[-1].year}\"\n",
    "\n",
    "    url = f\"https://api.bcb.gov.br/dados/serie/bcdata.sgs.1/dados?dataInicial={data_inicial}&dataFinal={data_final}&formato=json\"\n",
    "    response = requests.get(url)\n",
    "    \n",
    "    if response.status_code == 200:\n",
    "        try:\n",
    "            data_dolar = response.json()\n",
    "            # Verificar se a resposta está vazia\n",
    "            if data_dolar:\n",
    "                return data_dolar\n",
    "            else:\n",
    "                print(f\"Nenhum dado encontrado entre as datas {data_inicial} e {data_final}\")\n",
    "                return None  # Caso não tenha dados para aquela data\n",
    "        except Exception as e:\n",
    "            print(f\"Erro ao tentar decodificar JSON entre as datas {data_inicial} e {data_final}: {e}\")\n",
    "    else:\n",
    "        print(f\"Erro na requisição entre as datas {data_inicial} e {data_final}, código de status: {response.status_code}\")\n",
    "    return None\n"
   ]
  },
  {
   "cell_type": "code",
   "execution_count": 230,
   "metadata": {},
   "outputs": [],
   "source": [
    "df_dolar = pd.DataFrame(get_cotacao_dolar(df[\"Date\"]))"
   ]
  },
  {
   "cell_type": "code",
   "execution_count": 231,
   "metadata": {},
   "outputs": [
    {
     "name": "stdout",
     "output_type": "stream",
     "text": [
      "<class 'pandas.core.frame.DataFrame'>\n",
      "RangeIndex: 3766 entries, 0 to 3765\n",
      "Data columns (total 2 columns):\n",
      " #   Column  Non-Null Count  Dtype \n",
      "---  ------  --------------  ----- \n",
      " 0   data    3766 non-null   object\n",
      " 1   valor   3766 non-null   object\n",
      "dtypes: object(2)\n",
      "memory usage: 59.0+ KB\n"
     ]
    }
   ],
   "source": [
    "df_dolar.info()"
   ]
  },
  {
   "cell_type": "code",
   "execution_count": 232,
   "metadata": {},
   "outputs": [],
   "source": [
    "df_dolar[\"valor\"] = df_dolar[\"valor\"].astype(float)"
   ]
  },
  {
   "cell_type": "code",
   "execution_count": 233,
   "metadata": {},
   "outputs": [],
   "source": [
    "df[\"Valor_Dolar\"] = df[\"Close\"]/df_dolar[\"valor\"]"
   ]
  },
  {
   "cell_type": "code",
   "execution_count": 234,
   "metadata": {},
   "outputs": [],
   "source": [
    "# Adicionar uma nova coluna 'PriceR$' para o preço em reais, ignorando datas com erro\n",
    "#df['PriceR$'] = df['Date'].apply(lambda x: get_cotacao_dolar(x)).multiply(df['Price'])"
   ]
  },
  {
   "cell_type": "code",
   "execution_count": 235,
   "metadata": {},
   "outputs": [
    {
     "data": {
      "text/html": [
       "<div>\n",
       "<style scoped>\n",
       "    .dataframe tbody tr th:only-of-type {\n",
       "        vertical-align: middle;\n",
       "    }\n",
       "\n",
       "    .dataframe tbody tr th {\n",
       "        vertical-align: top;\n",
       "    }\n",
       "\n",
       "    .dataframe thead th {\n",
       "        text-align: right;\n",
       "    }\n",
       "</style>\n",
       "<table border=\"1\" class=\"dataframe\">\n",
       "  <thead>\n",
       "    <tr style=\"text-align: right;\">\n",
       "      <th></th>\n",
       "      <th>Date</th>\n",
       "      <th>Datetime</th>\n",
       "      <th>Open</th>\n",
       "      <th>High</th>\n",
       "      <th>Low</th>\n",
       "      <th>Close</th>\n",
       "      <th>Volume</th>\n",
       "      <th>Valor_Dolar</th>\n",
       "    </tr>\n",
       "  </thead>\n",
       "  <tbody>\n",
       "    <tr>\n",
       "      <th>0</th>\n",
       "      <td>2010-01-04</td>\n",
       "      <td>2010-01-04 16:56:00</td>\n",
       "      <td>37.567621</td>\n",
       "      <td>37.937621</td>\n",
       "      <td>37.437621</td>\n",
       "      <td>37.937621</td>\n",
       "      <td>13303743.87</td>\n",
       "      <td>22.005581</td>\n",
       "    </tr>\n",
       "    <tr>\n",
       "      <th>1</th>\n",
       "      <td>2010-01-05</td>\n",
       "      <td>2010-01-05 16:56:00</td>\n",
       "      <td>38.154220</td>\n",
       "      <td>38.204220</td>\n",
       "      <td>37.574220</td>\n",
       "      <td>37.774220</td>\n",
       "      <td>21396519.48</td>\n",
       "      <td>21.927335</td>\n",
       "    </tr>\n",
       "    <tr>\n",
       "      <th>2</th>\n",
       "      <td>2010-01-06</td>\n",
       "      <td>2010-01-06 16:56:00</td>\n",
       "      <td>38.105357</td>\n",
       "      <td>38.805357</td>\n",
       "      <td>38.105357</td>\n",
       "      <td>38.805357</td>\n",
       "      <td>18720547.15</td>\n",
       "      <td>22.382971</td>\n",
       "    </tr>\n",
       "    <tr>\n",
       "      <th>3</th>\n",
       "      <td>2010-01-07</td>\n",
       "      <td>2010-01-07 16:56:00</td>\n",
       "      <td>36.545929</td>\n",
       "      <td>36.725929</td>\n",
       "      <td>36.345929</td>\n",
       "      <td>36.425929</td>\n",
       "      <td>10964646.19</td>\n",
       "      <td>20.918813</td>\n",
       "    </tr>\n",
       "    <tr>\n",
       "      <th>4</th>\n",
       "      <td>2010-01-08</td>\n",
       "      <td>2010-01-08 16:56:00</td>\n",
       "      <td>35.247787</td>\n",
       "      <td>35.477787</td>\n",
       "      <td>34.947787</td>\n",
       "      <td>35.037787</td>\n",
       "      <td>14624078.31</td>\n",
       "      <td>20.148239</td>\n",
       "    </tr>\n",
       "    <tr>\n",
       "      <th>...</th>\n",
       "      <td>...</td>\n",
       "      <td>...</td>\n",
       "      <td>...</td>\n",
       "      <td>...</td>\n",
       "      <td>...</td>\n",
       "      <td>...</td>\n",
       "      <td>...</td>\n",
       "      <td>...</td>\n",
       "    </tr>\n",
       "    <tr>\n",
       "      <th>3647</th>\n",
       "      <td>2024-12-20</td>\n",
       "      <td>2024-12-20 16:56:00</td>\n",
       "      <td>39.155595</td>\n",
       "      <td>39.345595</td>\n",
       "      <td>38.705595</td>\n",
       "      <td>38.845595</td>\n",
       "      <td>59277431.74</td>\n",
       "      <td>7.123841</td>\n",
       "    </tr>\n",
       "    <tr>\n",
       "      <th>3648</th>\n",
       "      <td>2024-12-23</td>\n",
       "      <td>2024-12-23 16:56:00</td>\n",
       "      <td>39.460157</td>\n",
       "      <td>39.510157</td>\n",
       "      <td>39.180157</td>\n",
       "      <td>39.320157</td>\n",
       "      <td>43785532.81</td>\n",
       "      <td>7.206377</td>\n",
       "    </tr>\n",
       "    <tr>\n",
       "      <th>3649</th>\n",
       "      <td>2024-12-26</td>\n",
       "      <td>2024-12-26 16:56:00</td>\n",
       "      <td>37.727609</td>\n",
       "      <td>38.097609</td>\n",
       "      <td>37.697609</td>\n",
       "      <td>37.867609</td>\n",
       "      <td>22920777.53</td>\n",
       "      <td>6.977118</td>\n",
       "    </tr>\n",
       "    <tr>\n",
       "      <th>3650</th>\n",
       "      <td>2024-12-27</td>\n",
       "      <td>2024-12-27 16:56:00</td>\n",
       "      <td>36.406818</td>\n",
       "      <td>36.406818</td>\n",
       "      <td>36.016818</td>\n",
       "      <td>36.066818</td>\n",
       "      <td>24167282.36</td>\n",
       "      <td>6.597186</td>\n",
       "    </tr>\n",
       "    <tr>\n",
       "      <th>3651</th>\n",
       "      <td>2024-12-30</td>\n",
       "      <td>2024-12-30 16:56:00</td>\n",
       "      <td>36.204223</td>\n",
       "      <td>36.794223</td>\n",
       "      <td>36.194223</td>\n",
       "      <td>36.614223</td>\n",
       "      <td>22355586.67</td>\n",
       "      <td>6.605965</td>\n",
       "    </tr>\n",
       "  </tbody>\n",
       "</table>\n",
       "<p>3652 rows × 8 columns</p>\n",
       "</div>"
      ],
      "text/plain": [
       "            Date            Datetime       Open       High        Low  \\\n",
       "0     2010-01-04 2010-01-04 16:56:00  37.567621  37.937621  37.437621   \n",
       "1     2010-01-05 2010-01-05 16:56:00  38.154220  38.204220  37.574220   \n",
       "2     2010-01-06 2010-01-06 16:56:00  38.105357  38.805357  38.105357   \n",
       "3     2010-01-07 2010-01-07 16:56:00  36.545929  36.725929  36.345929   \n",
       "4     2010-01-08 2010-01-08 16:56:00  35.247787  35.477787  34.947787   \n",
       "...          ...                 ...        ...        ...        ...   \n",
       "3647  2024-12-20 2024-12-20 16:56:00  39.155595  39.345595  38.705595   \n",
       "3648  2024-12-23 2024-12-23 16:56:00  39.460157  39.510157  39.180157   \n",
       "3649  2024-12-26 2024-12-26 16:56:00  37.727609  38.097609  37.697609   \n",
       "3650  2024-12-27 2024-12-27 16:56:00  36.406818  36.406818  36.016818   \n",
       "3651  2024-12-30 2024-12-30 16:56:00  36.204223  36.794223  36.194223   \n",
       "\n",
       "          Close       Volume  Valor_Dolar  \n",
       "0     37.937621  13303743.87    22.005581  \n",
       "1     37.774220  21396519.48    21.927335  \n",
       "2     38.805357  18720547.15    22.382971  \n",
       "3     36.425929  10964646.19    20.918813  \n",
       "4     35.037787  14624078.31    20.148239  \n",
       "...         ...          ...          ...  \n",
       "3647  38.845595  59277431.74     7.123841  \n",
       "3648  39.320157  43785532.81     7.206377  \n",
       "3649  37.867609  22920777.53     6.977118  \n",
       "3650  36.066818  24167282.36     6.597186  \n",
       "3651  36.614223  22355586.67     6.605965  \n",
       "\n",
       "[3652 rows x 8 columns]"
      ]
     },
     "metadata": {},
     "output_type": "display_data"
    }
   ],
   "source": [
    "display(df)"
   ]
  },
  {
   "cell_type": "code",
   "execution_count": null,
   "metadata": {},
   "outputs": [],
   "source": [
    "df.to_csv('../../camada_prata/eyac2_clean.csv', index=False)"
   ]
  }
 ],
 "metadata": {
  "kernelspec": {
   "display_name": ".venv",
   "language": "python",
   "name": "python3"
  },
  "language_info": {
   "codemirror_mode": {
    "name": "ipython",
    "version": 3
   },
   "file_extension": ".py",
   "mimetype": "text/x-python",
   "name": "python",
   "nbconvert_exporter": "python",
   "pygments_lexer": "ipython3",
   "version": "3.13.2"
  }
 },
 "nbformat": 4,
 "nbformat_minor": 2
}
