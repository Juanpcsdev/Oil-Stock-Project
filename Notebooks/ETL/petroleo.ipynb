{
 "cells": [
  {
   "cell_type": "code",
   "execution_count": 1,
   "metadata": {},
   "outputs": [],
   "source": [
    "import pandas as pd"
   ]
  },
  {
   "cell_type": "code",
   "execution_count": 2,
   "metadata": {},
   "outputs": [
    {
     "data": {
      "text/html": [
       "<div>\n",
       "<style scoped>\n",
       "    .dataframe tbody tr th:only-of-type {\n",
       "        vertical-align: middle;\n",
       "    }\n",
       "\n",
       "    .dataframe tbody tr th {\n",
       "        vertical-align: top;\n",
       "    }\n",
       "\n",
       "    .dataframe thead th {\n",
       "        text-align: right;\n",
       "    }\n",
       "</style>\n",
       "<table border=\"1\" class=\"dataframe\">\n",
       "  <thead>\n",
       "    <tr style=\"text-align: right;\">\n",
       "      <th></th>\n",
       "      <th>Date</th>\n",
       "      <th>Price</th>\n",
       "      <th>Open</th>\n",
       "      <th>High</th>\n",
       "      <th>Low</th>\n",
       "      <th>Vol.</th>\n",
       "      <th>Change %</th>\n",
       "    </tr>\n",
       "  </thead>\n",
       "  <tbody>\n",
       "    <tr>\n",
       "      <th>0</th>\n",
       "      <td>12/31/2024</td>\n",
       "      <td>71.25</td>\n",
       "      <td>70.69</td>\n",
       "      <td>71.52</td>\n",
       "      <td>70.43</td>\n",
       "      <td>63.63K</td>\n",
       "      <td>1.02%</td>\n",
       "    </tr>\n",
       "    <tr>\n",
       "      <th>1</th>\n",
       "      <td>12/30/2024</td>\n",
       "      <td>70.53</td>\n",
       "      <td>70.00</td>\n",
       "      <td>71.05</td>\n",
       "      <td>69.75</td>\n",
       "      <td>93.10K</td>\n",
       "      <td>0.50%</td>\n",
       "    </tr>\n",
       "    <tr>\n",
       "      <th>2</th>\n",
       "      <td>12/27/2024</td>\n",
       "      <td>70.18</td>\n",
       "      <td>69.27</td>\n",
       "      <td>70.32</td>\n",
       "      <td>69.06</td>\n",
       "      <td>79.13K</td>\n",
       "      <td>1.37%</td>\n",
       "    </tr>\n",
       "    <tr>\n",
       "      <th>3</th>\n",
       "      <td>12/26/2024</td>\n",
       "      <td>69.23</td>\n",
       "      <td>69.72</td>\n",
       "      <td>70.25</td>\n",
       "      <td>68.94</td>\n",
       "      <td>69.64K</td>\n",
       "      <td>-0.59%</td>\n",
       "    </tr>\n",
       "    <tr>\n",
       "      <th>4</th>\n",
       "      <td>12/24/2024</td>\n",
       "      <td>69.64</td>\n",
       "      <td>69.04</td>\n",
       "      <td>69.94</td>\n",
       "      <td>68.95</td>\n",
       "      <td>40.39K</td>\n",
       "      <td>1.21%</td>\n",
       "    </tr>\n",
       "  </tbody>\n",
       "</table>\n",
       "</div>"
      ],
      "text/plain": [
       "         Date  Price   Open   High    Low    Vol. Change %\n",
       "0  12/31/2024  71.25  70.69  71.52  70.43  63.63K    1.02%\n",
       "1  12/30/2024  70.53  70.00  71.05  69.75  93.10K    0.50%\n",
       "2  12/27/2024  70.18  69.27  70.32  69.06  79.13K    1.37%\n",
       "3  12/26/2024  69.23  69.72  70.25  68.94  69.64K   -0.59%\n",
       "4  12/24/2024  69.64  69.04  69.94  68.95  40.39K    1.21%"
      ]
     },
     "execution_count": 2,
     "metadata": {},
     "output_type": "execute_result"
    }
   ],
   "source": [
    "df = pd.read_csv('..\\\\..\\\\camada_bronze\\\\Crude Oil WTI Futures Historical Data.csv')\n",
    "\n",
    "df.head()"
   ]
  },
  {
   "cell_type": "code",
   "execution_count": 3,
   "metadata": {},
   "outputs": [
    {
     "name": "stdout",
     "output_type": "stream",
     "text": [
      "<class 'pandas.core.frame.DataFrame'>\n",
      "RangeIndex: 4159 entries, 0 to 4158\n",
      "Data columns (total 7 columns):\n",
      " #   Column    Non-Null Count  Dtype  \n",
      "---  ------    --------------  -----  \n",
      " 0   Date      4159 non-null   object \n",
      " 1   Price     4159 non-null   float64\n",
      " 2   Open      4159 non-null   float64\n",
      " 3   High      4159 non-null   float64\n",
      " 4   Low       4159 non-null   float64\n",
      " 5   Vol.      4029 non-null   object \n",
      " 6   Change %  4159 non-null   object \n",
      "dtypes: float64(4), object(3)\n",
      "memory usage: 227.6+ KB\n"
     ]
    }
   ],
   "source": [
    "df.info()"
   ]
  },
  {
   "cell_type": "code",
   "execution_count": 4,
   "metadata": {},
   "outputs": [
    {
     "data": {
      "text/html": [
       "<div>\n",
       "<style scoped>\n",
       "    .dataframe tbody tr th:only-of-type {\n",
       "        vertical-align: middle;\n",
       "    }\n",
       "\n",
       "    .dataframe tbody tr th {\n",
       "        vertical-align: top;\n",
       "    }\n",
       "\n",
       "    .dataframe thead th {\n",
       "        text-align: right;\n",
       "    }\n",
       "</style>\n",
       "<table border=\"1\" class=\"dataframe\">\n",
       "  <thead>\n",
       "    <tr style=\"text-align: right;\">\n",
       "      <th></th>\n",
       "      <th>Date</th>\n",
       "      <th>Price</th>\n",
       "      <th>Open</th>\n",
       "      <th>High</th>\n",
       "      <th>Low</th>\n",
       "      <th>Vol.</th>\n",
       "      <th>Change %</th>\n",
       "    </tr>\n",
       "  </thead>\n",
       "  <tbody>\n",
       "    <tr>\n",
       "      <th>0</th>\n",
       "      <td>12/31/2024</td>\n",
       "      <td>71.25</td>\n",
       "      <td>70.69</td>\n",
       "      <td>71.52</td>\n",
       "      <td>70.43</td>\n",
       "      <td>63.63K</td>\n",
       "      <td>1.02%</td>\n",
       "    </tr>\n",
       "    <tr>\n",
       "      <th>1</th>\n",
       "      <td>12/30/2024</td>\n",
       "      <td>70.53</td>\n",
       "      <td>70.00</td>\n",
       "      <td>71.05</td>\n",
       "      <td>69.75</td>\n",
       "      <td>93.10K</td>\n",
       "      <td>0.50%</td>\n",
       "    </tr>\n",
       "    <tr>\n",
       "      <th>2</th>\n",
       "      <td>12/27/2024</td>\n",
       "      <td>70.18</td>\n",
       "      <td>69.27</td>\n",
       "      <td>70.32</td>\n",
       "      <td>69.06</td>\n",
       "      <td>79.13K</td>\n",
       "      <td>1.37%</td>\n",
       "    </tr>\n",
       "    <tr>\n",
       "      <th>3</th>\n",
       "      <td>12/26/2024</td>\n",
       "      <td>69.23</td>\n",
       "      <td>69.72</td>\n",
       "      <td>70.25</td>\n",
       "      <td>68.94</td>\n",
       "      <td>69.64K</td>\n",
       "      <td>-0.59%</td>\n",
       "    </tr>\n",
       "    <tr>\n",
       "      <th>4</th>\n",
       "      <td>12/24/2024</td>\n",
       "      <td>69.64</td>\n",
       "      <td>69.04</td>\n",
       "      <td>69.94</td>\n",
       "      <td>68.95</td>\n",
       "      <td>40.39K</td>\n",
       "      <td>1.21%</td>\n",
       "    </tr>\n",
       "  </tbody>\n",
       "</table>\n",
       "</div>"
      ],
      "text/plain": [
       "         Date  Price   Open   High    Low    Vol. Change %\n",
       "0  12/31/2024  71.25  70.69  71.52  70.43  63.63K    1.02%\n",
       "1  12/30/2024  70.53  70.00  71.05  69.75  93.10K    0.50%\n",
       "2  12/27/2024  70.18  69.27  70.32  69.06  79.13K    1.37%\n",
       "3  12/26/2024  69.23  69.72  70.25  68.94  69.64K   -0.59%\n",
       "4  12/24/2024  69.64  69.04  69.94  68.95  40.39K    1.21%"
      ]
     },
     "execution_count": 4,
     "metadata": {},
     "output_type": "execute_result"
    }
   ],
   "source": [
    "df.head()"
   ]
  },
  {
   "cell_type": "code",
   "execution_count": 5,
   "metadata": {},
   "outputs": [
    {
     "data": {
      "text/html": [
       "<div>\n",
       "<style scoped>\n",
       "    .dataframe tbody tr th:only-of-type {\n",
       "        vertical-align: middle;\n",
       "    }\n",
       "\n",
       "    .dataframe tbody tr th {\n",
       "        vertical-align: top;\n",
       "    }\n",
       "\n",
       "    .dataframe thead th {\n",
       "        text-align: right;\n",
       "    }\n",
       "</style>\n",
       "<table border=\"1\" class=\"dataframe\">\n",
       "  <thead>\n",
       "    <tr style=\"text-align: right;\">\n",
       "      <th></th>\n",
       "      <th>Date</th>\n",
       "      <th>Price</th>\n",
       "      <th>Open</th>\n",
       "      <th>High</th>\n",
       "      <th>Low</th>\n",
       "      <th>Volume</th>\n",
       "      <th>Change %</th>\n",
       "    </tr>\n",
       "  </thead>\n",
       "  <tbody>\n",
       "    <tr>\n",
       "      <th>0</th>\n",
       "      <td>12/31/2024</td>\n",
       "      <td>71.25</td>\n",
       "      <td>70.69</td>\n",
       "      <td>71.52</td>\n",
       "      <td>70.43</td>\n",
       "      <td>63.63</td>\n",
       "      <td>1.02%</td>\n",
       "    </tr>\n",
       "    <tr>\n",
       "      <th>1</th>\n",
       "      <td>12/30/2024</td>\n",
       "      <td>70.53</td>\n",
       "      <td>70.00</td>\n",
       "      <td>71.05</td>\n",
       "      <td>69.75</td>\n",
       "      <td>93.10</td>\n",
       "      <td>0.50%</td>\n",
       "    </tr>\n",
       "    <tr>\n",
       "      <th>2</th>\n",
       "      <td>12/27/2024</td>\n",
       "      <td>70.18</td>\n",
       "      <td>69.27</td>\n",
       "      <td>70.32</td>\n",
       "      <td>69.06</td>\n",
       "      <td>79.13</td>\n",
       "      <td>1.37%</td>\n",
       "    </tr>\n",
       "    <tr>\n",
       "      <th>3</th>\n",
       "      <td>12/26/2024</td>\n",
       "      <td>69.23</td>\n",
       "      <td>69.72</td>\n",
       "      <td>70.25</td>\n",
       "      <td>68.94</td>\n",
       "      <td>69.64</td>\n",
       "      <td>-0.59%</td>\n",
       "    </tr>\n",
       "    <tr>\n",
       "      <th>4</th>\n",
       "      <td>12/24/2024</td>\n",
       "      <td>69.64</td>\n",
       "      <td>69.04</td>\n",
       "      <td>69.94</td>\n",
       "      <td>68.95</td>\n",
       "      <td>40.39</td>\n",
       "      <td>1.21%</td>\n",
       "    </tr>\n",
       "  </tbody>\n",
       "</table>\n",
       "</div>"
      ],
      "text/plain": [
       "         Date  Price   Open   High    Low Volume Change %\n",
       "0  12/31/2024  71.25  70.69  71.52  70.43  63.63    1.02%\n",
       "1  12/30/2024  70.53  70.00  71.05  69.75  93.10    0.50%\n",
       "2  12/27/2024  70.18  69.27  70.32  69.06  79.13    1.37%\n",
       "3  12/26/2024  69.23  69.72  70.25  68.94  69.64   -0.59%\n",
       "4  12/24/2024  69.64  69.04  69.94  68.95  40.39    1.21%"
      ]
     },
     "execution_count": 5,
     "metadata": {},
     "output_type": "execute_result"
    }
   ],
   "source": [
    "df['Vol.'] = df['Vol.'].str[:-1]\n",
    "df = df.rename(columns={\"Vol.\":\"Volume\"})\n",
    "df.head()"
   ]
  },
  {
   "cell_type": "code",
   "execution_count": 6,
   "metadata": {},
   "outputs": [
    {
     "data": {
      "text/plain": [
       "Date          0\n",
       "Price         0\n",
       "Open          0\n",
       "High          0\n",
       "Low           0\n",
       "Volume      130\n",
       "Change %      0\n",
       "dtype: int64"
      ]
     },
     "execution_count": 6,
     "metadata": {},
     "output_type": "execute_result"
    }
   ],
   "source": [
    "df.isna().sum()"
   ]
  },
  {
   "cell_type": "code",
   "execution_count": 7,
   "metadata": {},
   "outputs": [],
   "source": [
    "df[\"Volume\"] = df[\"Volume\"].apply(lambda x: pd.to_numeric(x))"
   ]
  },
  {
   "cell_type": "code",
   "execution_count": 8,
   "metadata": {},
   "outputs": [
    {
     "name": "stdout",
     "output_type": "stream",
     "text": [
      "<class 'pandas.core.frame.DataFrame'>\n",
      "RangeIndex: 4159 entries, 0 to 4158\n",
      "Data columns (total 7 columns):\n",
      " #   Column    Non-Null Count  Dtype  \n",
      "---  ------    --------------  -----  \n",
      " 0   Date      4159 non-null   object \n",
      " 1   Price     4159 non-null   float64\n",
      " 2   Open      4159 non-null   float64\n",
      " 3   High      4159 non-null   float64\n",
      " 4   Low       4159 non-null   float64\n",
      " 5   Volume    4029 non-null   float64\n",
      " 6   Change %  4159 non-null   object \n",
      "dtypes: float64(5), object(2)\n",
      "memory usage: 227.6+ KB\n"
     ]
    }
   ],
   "source": [
    "df.info()"
   ]
  },
  {
   "cell_type": "code",
   "execution_count": 9,
   "metadata": {},
   "outputs": [],
   "source": [
    "list_index = [i for i in df[pd.isna(df[\"Volume\"])].index]"
   ]
  },
  {
   "cell_type": "code",
   "execution_count": 10,
   "metadata": {},
   "outputs": [],
   "source": [
    "for i in list_index:\n",
    "    df.loc[i, \"Volume\"] = df[~pd.isna(df[\"Volume\"])].iloc[i-2:i+2][\"Volume\"].mean()"
   ]
  },
  {
   "cell_type": "code",
   "execution_count": 11,
   "metadata": {},
   "outputs": [
    {
     "data": {
      "text/plain": [
       "Date        09/02/2024\n",
       "Price            73.78\n",
       "Open              73.0\n",
       "High             74.39\n",
       "Low              72.89\n",
       "Volume        225.3775\n",
       "Change %         1.10%\n",
       "Name: 84, dtype: object"
      ]
     },
     "execution_count": 11,
     "metadata": {},
     "output_type": "execute_result"
    }
   ],
   "source": [
    "df.iloc[84]"
   ]
  },
  {
   "cell_type": "code",
   "execution_count": 12,
   "metadata": {},
   "outputs": [
    {
     "name": "stdout",
     "output_type": "stream",
     "text": [
      "Dados após a modificação:\n"
     ]
    },
    {
     "data": {
      "text/html": [
       "<div>\n",
       "<style scoped>\n",
       "    .dataframe tbody tr th:only-of-type {\n",
       "        vertical-align: middle;\n",
       "    }\n",
       "\n",
       "    .dataframe tbody tr th {\n",
       "        vertical-align: top;\n",
       "    }\n",
       "\n",
       "    .dataframe thead th {\n",
       "        text-align: right;\n",
       "    }\n",
       "</style>\n",
       "<table border=\"1\" class=\"dataframe\">\n",
       "  <thead>\n",
       "    <tr style=\"text-align: right;\">\n",
       "      <th></th>\n",
       "      <th>Date</th>\n",
       "      <th>Price</th>\n",
       "      <th>Open</th>\n",
       "      <th>High</th>\n",
       "      <th>Low</th>\n",
       "      <th>Volume</th>\n",
       "      <th>Change %</th>\n",
       "    </tr>\n",
       "  </thead>\n",
       "  <tbody>\n",
       "    <tr>\n",
       "      <th>0</th>\n",
       "      <td>2024-12-31</td>\n",
       "      <td>71.25</td>\n",
       "      <td>70.69</td>\n",
       "      <td>71.52</td>\n",
       "      <td>70.43</td>\n",
       "      <td>63.63</td>\n",
       "      <td>1.02%</td>\n",
       "    </tr>\n",
       "    <tr>\n",
       "      <th>1</th>\n",
       "      <td>2024-12-30</td>\n",
       "      <td>70.53</td>\n",
       "      <td>70.00</td>\n",
       "      <td>71.05</td>\n",
       "      <td>69.75</td>\n",
       "      <td>93.10</td>\n",
       "      <td>0.50%</td>\n",
       "    </tr>\n",
       "    <tr>\n",
       "      <th>2</th>\n",
       "      <td>2024-12-27</td>\n",
       "      <td>70.18</td>\n",
       "      <td>69.27</td>\n",
       "      <td>70.32</td>\n",
       "      <td>69.06</td>\n",
       "      <td>79.13</td>\n",
       "      <td>1.37%</td>\n",
       "    </tr>\n",
       "    <tr>\n",
       "      <th>3</th>\n",
       "      <td>2024-12-26</td>\n",
       "      <td>69.23</td>\n",
       "      <td>69.72</td>\n",
       "      <td>70.25</td>\n",
       "      <td>68.94</td>\n",
       "      <td>69.64</td>\n",
       "      <td>-0.59%</td>\n",
       "    </tr>\n",
       "    <tr>\n",
       "      <th>4</th>\n",
       "      <td>2024-12-24</td>\n",
       "      <td>69.64</td>\n",
       "      <td>69.04</td>\n",
       "      <td>69.94</td>\n",
       "      <td>68.95</td>\n",
       "      <td>40.39</td>\n",
       "      <td>1.21%</td>\n",
       "    </tr>\n",
       "  </tbody>\n",
       "</table>\n",
       "</div>"
      ],
      "text/plain": [
       "        Date  Price   Open   High    Low  Volume Change %\n",
       "0 2024-12-31  71.25  70.69  71.52  70.43   63.63    1.02%\n",
       "1 2024-12-30  70.53  70.00  71.05  69.75   93.10    0.50%\n",
       "2 2024-12-27  70.18  69.27  70.32  69.06   79.13    1.37%\n",
       "3 2024-12-26  69.23  69.72  70.25  68.94   69.64   -0.59%\n",
       "4 2024-12-24  69.64  69.04  69.94  68.95   40.39    1.21%"
      ]
     },
     "execution_count": 12,
     "metadata": {},
     "output_type": "execute_result"
    }
   ],
   "source": [
    "# Converter a coluna 'Date' para o formato correto\n",
    "df['Date'] = pd.to_datetime(df['Date'])\n",
    "\n",
    "print(\"Dados após a modificação:\")\n",
    "df.head()\n"
   ]
  },
  {
   "cell_type": "code",
   "execution_count": 13,
   "metadata": {},
   "outputs": [],
   "source": [
    "#Tirando colunas que não serão usadas\n",
    "df = df.drop(['Open', 'High', 'Low'], axis=1)\n"
   ]
  },
  {
   "cell_type": "code",
   "execution_count": 14,
   "metadata": {},
   "outputs": [
    {
     "data": {
      "text/html": [
       "<div>\n",
       "<style scoped>\n",
       "    .dataframe tbody tr th:only-of-type {\n",
       "        vertical-align: middle;\n",
       "    }\n",
       "\n",
       "    .dataframe tbody tr th {\n",
       "        vertical-align: top;\n",
       "    }\n",
       "\n",
       "    .dataframe thead th {\n",
       "        text-align: right;\n",
       "    }\n",
       "</style>\n",
       "<table border=\"1\" class=\"dataframe\">\n",
       "  <thead>\n",
       "    <tr style=\"text-align: right;\">\n",
       "      <th></th>\n",
       "      <th>Date</th>\n",
       "      <th>Price</th>\n",
       "      <th>Volume</th>\n",
       "      <th>Change %</th>\n",
       "    </tr>\n",
       "  </thead>\n",
       "  <tbody>\n",
       "    <tr>\n",
       "      <th>0</th>\n",
       "      <td>2024-12-31</td>\n",
       "      <td>71.25</td>\n",
       "      <td>63.63</td>\n",
       "      <td>1.02%</td>\n",
       "    </tr>\n",
       "    <tr>\n",
       "      <th>1</th>\n",
       "      <td>2024-12-30</td>\n",
       "      <td>70.53</td>\n",
       "      <td>93.10</td>\n",
       "      <td>0.50%</td>\n",
       "    </tr>\n",
       "    <tr>\n",
       "      <th>2</th>\n",
       "      <td>2024-12-27</td>\n",
       "      <td>70.18</td>\n",
       "      <td>79.13</td>\n",
       "      <td>1.37%</td>\n",
       "    </tr>\n",
       "    <tr>\n",
       "      <th>3</th>\n",
       "      <td>2024-12-26</td>\n",
       "      <td>69.23</td>\n",
       "      <td>69.64</td>\n",
       "      <td>-0.59%</td>\n",
       "    </tr>\n",
       "    <tr>\n",
       "      <th>4</th>\n",
       "      <td>2024-12-24</td>\n",
       "      <td>69.64</td>\n",
       "      <td>40.39</td>\n",
       "      <td>1.21%</td>\n",
       "    </tr>\n",
       "    <tr>\n",
       "      <th>...</th>\n",
       "      <td>...</td>\n",
       "      <td>...</td>\n",
       "      <td>...</td>\n",
       "      <td>...</td>\n",
       "    </tr>\n",
       "    <tr>\n",
       "      <th>4154</th>\n",
       "      <td>2009-01-08</td>\n",
       "      <td>41.70</td>\n",
       "      <td>312.49</td>\n",
       "      <td>-2.18%</td>\n",
       "    </tr>\n",
       "    <tr>\n",
       "      <th>4155</th>\n",
       "      <td>2009-01-07</td>\n",
       "      <td>42.63</td>\n",
       "      <td>306.26</td>\n",
       "      <td>-12.25%</td>\n",
       "    </tr>\n",
       "    <tr>\n",
       "      <th>4156</th>\n",
       "      <td>2009-01-06</td>\n",
       "      <td>48.58</td>\n",
       "      <td>331.31</td>\n",
       "      <td>-0.47%</td>\n",
       "    </tr>\n",
       "    <tr>\n",
       "      <th>4157</th>\n",
       "      <td>2009-01-05</td>\n",
       "      <td>48.81</td>\n",
       "      <td>258.76</td>\n",
       "      <td>5.33%</td>\n",
       "    </tr>\n",
       "    <tr>\n",
       "      <th>4158</th>\n",
       "      <td>2009-01-02</td>\n",
       "      <td>46.34</td>\n",
       "      <td>184.68</td>\n",
       "      <td>3.90%</td>\n",
       "    </tr>\n",
       "  </tbody>\n",
       "</table>\n",
       "<p>4159 rows × 4 columns</p>\n",
       "</div>"
      ],
      "text/plain": [
       "           Date  Price  Volume Change %\n",
       "0    2024-12-31  71.25   63.63    1.02%\n",
       "1    2024-12-30  70.53   93.10    0.50%\n",
       "2    2024-12-27  70.18   79.13    1.37%\n",
       "3    2024-12-26  69.23   69.64   -0.59%\n",
       "4    2024-12-24  69.64   40.39    1.21%\n",
       "...         ...    ...     ...      ...\n",
       "4154 2009-01-08  41.70  312.49   -2.18%\n",
       "4155 2009-01-07  42.63  306.26  -12.25%\n",
       "4156 2009-01-06  48.58  331.31   -0.47%\n",
       "4157 2009-01-05  48.81  258.76    5.33%\n",
       "4158 2009-01-02  46.34  184.68    3.90%\n",
       "\n",
       "[4159 rows x 4 columns]"
      ]
     },
     "metadata": {},
     "output_type": "display_data"
    }
   ],
   "source": [
    "display(df)"
   ]
  },
  {
   "cell_type": "code",
   "execution_count": 15,
   "metadata": {},
   "outputs": [
    {
     "data": {
      "text/plain": [
       "Date        0\n",
       "Price       0\n",
       "Volume      0\n",
       "Change %    0\n",
       "dtype: int64"
      ]
     },
     "execution_count": 15,
     "metadata": {},
     "output_type": "execute_result"
    }
   ],
   "source": [
    "df.isna().sum()"
   ]
  },
  {
   "cell_type": "code",
   "execution_count": 16,
   "metadata": {},
   "outputs": [],
   "source": [
    "# Salvar o DataFrame modificado\n",
    "modified_file_path = '..\\\\..\\\\camada_prata\\\\Crude_Oil_clean.csv'\n",
    "df.to_csv(modified_file_path, index=False)"
   ]
  }
 ],
 "metadata": {
  "kernelspec": {
   "display_name": ".venv",
   "language": "python",
   "name": "python3"
  },
  "language_info": {
   "codemirror_mode": {
    "name": "ipython",
    "version": 3
   },
   "file_extension": ".py",
   "mimetype": "text/x-python",
   "name": "python",
   "nbconvert_exporter": "python",
   "pygments_lexer": "ipython3",
   "version": "3.13.2"
  }
 },
 "nbformat": 4,
 "nbformat_minor": 2
}
