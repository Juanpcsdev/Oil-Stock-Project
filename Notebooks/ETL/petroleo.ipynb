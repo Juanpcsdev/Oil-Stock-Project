{
 "cells": [
  {
   "cell_type": "code",
   "execution_count": 1,
   "metadata": {},
   "outputs": [],
   "source": [
    "import pandas as pd"
   ]
  },
  {
   "cell_type": "code",
   "execution_count": 2,
   "metadata": {},
   "outputs": [
    {
     "data": {
      "text/html": [
       "<div>\n",
       "<style scoped>\n",
       "    .dataframe tbody tr th:only-of-type {\n",
       "        vertical-align: middle;\n",
       "    }\n",
       "\n",
       "    .dataframe tbody tr th {\n",
       "        vertical-align: top;\n",
       "    }\n",
       "\n",
       "    .dataframe thead th {\n",
       "        text-align: right;\n",
       "    }\n",
       "</style>\n",
       "<table border=\"1\" class=\"dataframe\">\n",
       "  <thead>\n",
       "    <tr style=\"text-align: right;\">\n",
       "      <th></th>\n",
       "      <th>Date</th>\n",
       "      <th>Price</th>\n",
       "      <th>Open</th>\n",
       "      <th>High</th>\n",
       "      <th>Low</th>\n",
       "      <th>Vol.</th>\n",
       "      <th>Change %</th>\n",
       "    </tr>\n",
       "  </thead>\n",
       "  <tbody>\n",
       "    <tr>\n",
       "      <th>0</th>\n",
       "      <td>12/31/2024</td>\n",
       "      <td>71.25</td>\n",
       "      <td>70.69</td>\n",
       "      <td>71.52</td>\n",
       "      <td>70.43</td>\n",
       "      <td>63.63K</td>\n",
       "      <td>1.02%</td>\n",
       "    </tr>\n",
       "    <tr>\n",
       "      <th>1</th>\n",
       "      <td>12/30/2024</td>\n",
       "      <td>70.53</td>\n",
       "      <td>70.00</td>\n",
       "      <td>71.05</td>\n",
       "      <td>69.75</td>\n",
       "      <td>93.10K</td>\n",
       "      <td>0.50%</td>\n",
       "    </tr>\n",
       "    <tr>\n",
       "      <th>2</th>\n",
       "      <td>12/27/2024</td>\n",
       "      <td>70.18</td>\n",
       "      <td>69.27</td>\n",
       "      <td>70.32</td>\n",
       "      <td>69.06</td>\n",
       "      <td>79.13K</td>\n",
       "      <td>1.37%</td>\n",
       "    </tr>\n",
       "    <tr>\n",
       "      <th>3</th>\n",
       "      <td>12/26/2024</td>\n",
       "      <td>69.23</td>\n",
       "      <td>69.72</td>\n",
       "      <td>70.25</td>\n",
       "      <td>68.94</td>\n",
       "      <td>69.64K</td>\n",
       "      <td>-0.59%</td>\n",
       "    </tr>\n",
       "    <tr>\n",
       "      <th>4</th>\n",
       "      <td>12/24/2024</td>\n",
       "      <td>69.64</td>\n",
       "      <td>69.04</td>\n",
       "      <td>69.94</td>\n",
       "      <td>68.95</td>\n",
       "      <td>40.39K</td>\n",
       "      <td>1.21%</td>\n",
       "    </tr>\n",
       "  </tbody>\n",
       "</table>\n",
       "</div>"
      ],
      "text/plain": [
       "         Date  Price   Open   High    Low    Vol. Change %\n",
       "0  12/31/2024  71.25  70.69  71.52  70.43  63.63K    1.02%\n",
       "1  12/30/2024  70.53  70.00  71.05  69.75  93.10K    0.50%\n",
       "2  12/27/2024  70.18  69.27  70.32  69.06  79.13K    1.37%\n",
       "3  12/26/2024  69.23  69.72  70.25  68.94  69.64K   -0.59%\n",
       "4  12/24/2024  69.64  69.04  69.94  68.95  40.39K    1.21%"
      ]
     },
     "execution_count": 2,
     "metadata": {},
     "output_type": "execute_result"
    }
   ],
   "source": [
    "df = pd.read_csv('..\\\\..\\\\camada_bronze\\\\Crude Oil WTI Futures Historical Data.csv')\n",
    "\n",
    "df.head()"
   ]
  },
  {
   "cell_type": "code",
   "execution_count": 3,
   "metadata": {},
   "outputs": [
    {
     "data": {
      "text/html": [
       "<div>\n",
       "<style scoped>\n",
       "    .dataframe tbody tr th:only-of-type {\n",
       "        vertical-align: middle;\n",
       "    }\n",
       "\n",
       "    .dataframe tbody tr th {\n",
       "        vertical-align: top;\n",
       "    }\n",
       "\n",
       "    .dataframe thead th {\n",
       "        text-align: right;\n",
       "    }\n",
       "</style>\n",
       "<table border=\"1\" class=\"dataframe\">\n",
       "  <thead>\n",
       "    <tr style=\"text-align: right;\">\n",
       "      <th></th>\n",
       "      <th>Date</th>\n",
       "      <th>Price</th>\n",
       "      <th>Open</th>\n",
       "      <th>High</th>\n",
       "      <th>Low</th>\n",
       "      <th>Volume</th>\n",
       "      <th>Change %</th>\n",
       "    </tr>\n",
       "  </thead>\n",
       "  <tbody>\n",
       "    <tr>\n",
       "      <th>0</th>\n",
       "      <td>12/31/2024</td>\n",
       "      <td>71.25</td>\n",
       "      <td>70.69</td>\n",
       "      <td>71.52</td>\n",
       "      <td>70.43</td>\n",
       "      <td>63.63</td>\n",
       "      <td>1.02%</td>\n",
       "    </tr>\n",
       "    <tr>\n",
       "      <th>1</th>\n",
       "      <td>12/30/2024</td>\n",
       "      <td>70.53</td>\n",
       "      <td>70.00</td>\n",
       "      <td>71.05</td>\n",
       "      <td>69.75</td>\n",
       "      <td>93.10</td>\n",
       "      <td>0.50%</td>\n",
       "    </tr>\n",
       "    <tr>\n",
       "      <th>2</th>\n",
       "      <td>12/27/2024</td>\n",
       "      <td>70.18</td>\n",
       "      <td>69.27</td>\n",
       "      <td>70.32</td>\n",
       "      <td>69.06</td>\n",
       "      <td>79.13</td>\n",
       "      <td>1.37%</td>\n",
       "    </tr>\n",
       "    <tr>\n",
       "      <th>3</th>\n",
       "      <td>12/26/2024</td>\n",
       "      <td>69.23</td>\n",
       "      <td>69.72</td>\n",
       "      <td>70.25</td>\n",
       "      <td>68.94</td>\n",
       "      <td>69.64</td>\n",
       "      <td>-0.59%</td>\n",
       "    </tr>\n",
       "    <tr>\n",
       "      <th>4</th>\n",
       "      <td>12/24/2024</td>\n",
       "      <td>69.64</td>\n",
       "      <td>69.04</td>\n",
       "      <td>69.94</td>\n",
       "      <td>68.95</td>\n",
       "      <td>40.39</td>\n",
       "      <td>1.21%</td>\n",
       "    </tr>\n",
       "  </tbody>\n",
       "</table>\n",
       "</div>"
      ],
      "text/plain": [
       "         Date  Price   Open   High    Low Volume Change %\n",
       "0  12/31/2024  71.25  70.69  71.52  70.43  63.63    1.02%\n",
       "1  12/30/2024  70.53  70.00  71.05  69.75  93.10    0.50%\n",
       "2  12/27/2024  70.18  69.27  70.32  69.06  79.13    1.37%\n",
       "3  12/26/2024  69.23  69.72  70.25  68.94  69.64   -0.59%\n",
       "4  12/24/2024  69.64  69.04  69.94  68.95  40.39    1.21%"
      ]
     },
     "execution_count": 3,
     "metadata": {},
     "output_type": "execute_result"
    }
   ],
   "source": [
    "df['Vol.'] = df['Vol.'].str[:-1]\n",
    "df = df.rename(columns={\"Vol.\":\"Volume\"})\n",
    "df.head()"
   ]
  },
  {
   "cell_type": "code",
   "execution_count": 5,
   "metadata": {},
   "outputs": [
    {
     "data": {
      "text/plain": [
       "Date          0\n",
       "Price         0\n",
       "Open          0\n",
       "High          0\n",
       "Low           0\n",
       "Volume      130\n",
       "Change %      0\n",
       "dtype: int64"
      ]
     },
     "execution_count": 5,
     "metadata": {},
     "output_type": "execute_result"
    }
   ],
   "source": [
    "df.isna().sum()"
   ]
  },
  {
   "cell_type": "code",
   "execution_count": 6,
   "metadata": {},
   "outputs": [],
   "source": [
    "df[\"Volume\"] = df[\"Volume\"].apply(lambda x: pd.to_numeric(x))"
   ]
  },
  {
   "cell_type": "code",
   "execution_count": 7,
   "metadata": {},
   "outputs": [
    {
     "name": "stdout",
     "output_type": "stream",
     "text": [
      "<class 'pandas.core.frame.DataFrame'>\n",
      "RangeIndex: 3907 entries, 0 to 3906\n",
      "Data columns (total 7 columns):\n",
      " #   Column    Non-Null Count  Dtype  \n",
      "---  ------    --------------  -----  \n",
      " 0   Date      3907 non-null   object \n",
      " 1   Price     3907 non-null   float64\n",
      " 2   Open      3907 non-null   float64\n",
      " 3   High      3907 non-null   float64\n",
      " 4   Low       3907 non-null   float64\n",
      " 5   Volume    3777 non-null   float64\n",
      " 6   Change %  3907 non-null   object \n",
      "dtypes: float64(5), object(2)\n",
      "memory usage: 213.8+ KB\n"
     ]
    }
   ],
   "source": [
    "df.info()"
   ]
  },
  {
   "cell_type": "code",
   "execution_count": 8,
   "metadata": {},
   "outputs": [],
   "source": [
    "list_index = [i for i in df[pd.isna(df[\"Volume\"])].index]"
   ]
  },
  {
   "cell_type": "code",
   "execution_count": 9,
   "metadata": {},
   "outputs": [],
   "source": [
    "for i in list_index:\n",
    "    df.loc[i, \"Volume\"] = df[~pd.isna(df[\"Volume\"])].iloc[i-2:i+2][\"Volume\"].mean()"
   ]
  },
  {
   "cell_type": "code",
   "execution_count": 10,
   "metadata": {},
   "outputs": [
    {
     "data": {
      "text/plain": [
       "Date        09/02/2024\n",
       "Price            73.78\n",
       "Open              73.0\n",
       "High             74.39\n",
       "Low              72.89\n",
       "Volume        225.3775\n",
       "Change %         1.10%\n",
       "Name: 84, dtype: object"
      ]
     },
     "execution_count": 10,
     "metadata": {},
     "output_type": "execute_result"
    }
   ],
   "source": [
    "df.iloc[84]"
   ]
  },
  {
   "cell_type": "code",
   "execution_count": 15,
   "metadata": {},
   "outputs": [
    {
     "name": "stdout",
     "output_type": "stream",
     "text": [
      "Dados após a modificação:\n"
     ]
    }
   ],
   "source": [
    "# Converter a coluna 'Date' para o formato correto\n",
    "df['Date'] = pd.to_datetime(df['Date'])\n",
    "\n",
    "print(\"Dados após a modificação:\")\n",
    "df.head()\n",
    "\n",
    "# Salvar o DataFrame modificado\n",
    "modified_file_path = '..\\\\..\\\\camada_prata\\\\Crude_Oil_clean.csv'\n",
    "df.to_csv(modified_file_path, index=False)"
   ]
  },
  {
   "cell_type": "code",
   "execution_count": 16,
   "metadata": {},
   "outputs": [
    {
     "data": {
      "text/html": [
       "<div>\n",
       "<style scoped>\n",
       "    .dataframe tbody tr th:only-of-type {\n",
       "        vertical-align: middle;\n",
       "    }\n",
       "\n",
       "    .dataframe tbody tr th {\n",
       "        vertical-align: top;\n",
       "    }\n",
       "\n",
       "    .dataframe thead th {\n",
       "        text-align: right;\n",
       "    }\n",
       "</style>\n",
       "<table border=\"1\" class=\"dataframe\">\n",
       "  <thead>\n",
       "    <tr style=\"text-align: right;\">\n",
       "      <th></th>\n",
       "      <th>Date</th>\n",
       "      <th>Price</th>\n",
       "      <th>Open</th>\n",
       "      <th>High</th>\n",
       "      <th>Low</th>\n",
       "      <th>Volume</th>\n",
       "      <th>Change %</th>\n",
       "    </tr>\n",
       "  </thead>\n",
       "  <tbody>\n",
       "    <tr>\n",
       "      <th>0</th>\n",
       "      <td>2024-12-31</td>\n",
       "      <td>71.25</td>\n",
       "      <td>70.69</td>\n",
       "      <td>71.52</td>\n",
       "      <td>70.43</td>\n",
       "      <td>63.63</td>\n",
       "      <td>1.02%</td>\n",
       "    </tr>\n",
       "    <tr>\n",
       "      <th>1</th>\n",
       "      <td>2024-12-30</td>\n",
       "      <td>70.53</td>\n",
       "      <td>70.00</td>\n",
       "      <td>71.05</td>\n",
       "      <td>69.75</td>\n",
       "      <td>93.10</td>\n",
       "      <td>0.50%</td>\n",
       "    </tr>\n",
       "    <tr>\n",
       "      <th>2</th>\n",
       "      <td>2024-12-27</td>\n",
       "      <td>70.18</td>\n",
       "      <td>69.27</td>\n",
       "      <td>70.32</td>\n",
       "      <td>69.06</td>\n",
       "      <td>79.13</td>\n",
       "      <td>1.37%</td>\n",
       "    </tr>\n",
       "    <tr>\n",
       "      <th>3</th>\n",
       "      <td>2024-12-26</td>\n",
       "      <td>69.23</td>\n",
       "      <td>69.72</td>\n",
       "      <td>70.25</td>\n",
       "      <td>68.94</td>\n",
       "      <td>69.64</td>\n",
       "      <td>-0.59%</td>\n",
       "    </tr>\n",
       "    <tr>\n",
       "      <th>4</th>\n",
       "      <td>2024-12-24</td>\n",
       "      <td>69.64</td>\n",
       "      <td>69.04</td>\n",
       "      <td>69.94</td>\n",
       "      <td>68.95</td>\n",
       "      <td>40.39</td>\n",
       "      <td>1.21%</td>\n",
       "    </tr>\n",
       "    <tr>\n",
       "      <th>...</th>\n",
       "      <td>...</td>\n",
       "      <td>...</td>\n",
       "      <td>...</td>\n",
       "      <td>...</td>\n",
       "      <td>...</td>\n",
       "      <td>...</td>\n",
       "      <td>...</td>\n",
       "    </tr>\n",
       "    <tr>\n",
       "      <th>3902</th>\n",
       "      <td>2010-01-08</td>\n",
       "      <td>82.75</td>\n",
       "      <td>82.65</td>\n",
       "      <td>83.47</td>\n",
       "      <td>81.80</td>\n",
       "      <td>310.38</td>\n",
       "      <td>0.11%</td>\n",
       "    </tr>\n",
       "    <tr>\n",
       "      <th>3903</th>\n",
       "      <td>2010-01-07</td>\n",
       "      <td>82.66</td>\n",
       "      <td>83.20</td>\n",
       "      <td>83.36</td>\n",
       "      <td>82.26</td>\n",
       "      <td>246.63</td>\n",
       "      <td>-0.63%</td>\n",
       "    </tr>\n",
       "    <tr>\n",
       "      <th>3904</th>\n",
       "      <td>2010-01-06</td>\n",
       "      <td>83.18</td>\n",
       "      <td>81.43</td>\n",
       "      <td>83.52</td>\n",
       "      <td>80.85</td>\n",
       "      <td>370.06</td>\n",
       "      <td>1.72%</td>\n",
       "    </tr>\n",
       "    <tr>\n",
       "      <th>3905</th>\n",
       "      <td>2010-01-05</td>\n",
       "      <td>81.77</td>\n",
       "      <td>81.63</td>\n",
       "      <td>82.00</td>\n",
       "      <td>80.95</td>\n",
       "      <td>258.89</td>\n",
       "      <td>0.32%</td>\n",
       "    </tr>\n",
       "    <tr>\n",
       "      <th>3906</th>\n",
       "      <td>2010-01-04</td>\n",
       "      <td>81.51</td>\n",
       "      <td>79.63</td>\n",
       "      <td>81.79</td>\n",
       "      <td>79.63</td>\n",
       "      <td>263.54</td>\n",
       "      <td>2.71%</td>\n",
       "    </tr>\n",
       "  </tbody>\n",
       "</table>\n",
       "<p>3907 rows × 7 columns</p>\n",
       "</div>"
      ],
      "text/plain": [
       "           Date  Price   Open   High    Low  Volume Change %\n",
       "0    2024-12-31  71.25  70.69  71.52  70.43   63.63    1.02%\n",
       "1    2024-12-30  70.53  70.00  71.05  69.75   93.10    0.50%\n",
       "2    2024-12-27  70.18  69.27  70.32  69.06   79.13    1.37%\n",
       "3    2024-12-26  69.23  69.72  70.25  68.94   69.64   -0.59%\n",
       "4    2024-12-24  69.64  69.04  69.94  68.95   40.39    1.21%\n",
       "...         ...    ...    ...    ...    ...     ...      ...\n",
       "3902 2010-01-08  82.75  82.65  83.47  81.80  310.38    0.11%\n",
       "3903 2010-01-07  82.66  83.20  83.36  82.26  246.63   -0.63%\n",
       "3904 2010-01-06  83.18  81.43  83.52  80.85  370.06    1.72%\n",
       "3905 2010-01-05  81.77  81.63  82.00  80.95  258.89    0.32%\n",
       "3906 2010-01-04  81.51  79.63  81.79  79.63  263.54    2.71%\n",
       "\n",
       "[3907 rows x 7 columns]"
      ]
     },
     "metadata": {},
     "output_type": "display_data"
    }
   ],
   "source": [
    "display(df)"
   ]
  },
  {
   "cell_type": "code",
   "execution_count": 14,
   "metadata": {},
   "outputs": [
    {
     "data": {
      "text/plain": [
       "Date        0\n",
       "Price       0\n",
       "Open        0\n",
       "High        0\n",
       "Low         0\n",
       "Volume      0\n",
       "Change %    0\n",
       "dtype: int64"
      ]
     },
     "execution_count": 14,
     "metadata": {},
     "output_type": "execute_result"
    }
   ],
   "source": [
    "df.isna().sum()"
   ]
  }
 ],
 "metadata": {
  "kernelspec": {
   "display_name": "Python 3",
   "language": "python",
   "name": "python3"
  },
  "language_info": {
   "codemirror_mode": {
    "name": "ipython",
    "version": 3
   },
   "file_extension": ".py",
   "mimetype": "text/x-python",
   "name": "python",
   "nbconvert_exporter": "python",
   "pygments_lexer": "ipython3",
   "version": "3.13.2"
  }
 },
 "nbformat": 4,
 "nbformat_minor": 2
}
