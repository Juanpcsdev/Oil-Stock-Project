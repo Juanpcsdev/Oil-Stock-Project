{
 "cells": [
  {
   "cell_type": "code",
   "execution_count": 6,
   "metadata": {},
   "outputs": [],
   "source": [
    "from dotenv import load_dotenv\n",
    "import os\n",
    "from sqlalchemy import create_engine\n",
    "import pandas as pd\n",
    "\n",
    "load_dotenv()\n",
    "\n",
    "db_user = os.getenv('DB_USER')\n",
    "db_password = os.getenv('DB_PASSWORD')\n",
    "db_host = os.getenv('DB_HOST')\n",
    "db_name = os.getenv('DB_NAME')\n",
    "db_ssl_mode = os.getenv('DB_SSL_MODE')\n",
    "\n",
    "# Construir a URL de conexão\n",
    "db_url = f'postgresql://{db_user}:{db_password}@{db_host}/{db_name}?sslmode={db_ssl_mode}'\n",
    "\n",
    "# Criar o motor de conexão\n",
    "engine = create_engine(db_url)"
   ]
  },
  {
   "cell_type": "code",
   "execution_count": null,
   "metadata": {},
   "outputs": [],
   "source": [
    "# Caminhos dos arquivos CSV\n",
    "ipca_file_path = r'camada_ouro\\ipca_final_gold.csv'\n",
    "join_file_path = r'camada_ouro\\Join_dataframes_new_end.csv'\n",
    "\n",
    "# Carregar os arquivos CSV\n",
    "ipca_df = pd.read_csv(ipca_file_path)\n",
    "join_df = pd.read_csv(join_file_path)"
   ]
  },
  {
   "cell_type": "code",
   "execution_count": 8,
   "metadata": {},
   "outputs": [
    {
     "name": "stdout",
     "output_type": "stream",
     "text": [
      "Dados enviados com sucesso para o banco de dados!\n"
     ]
    }
   ],
   "source": [
    "# Enviar os DataFrames para o PostgreSQL\n",
    "ipca_df.to_sql('ipca_final', con=engine, if_exists='replace', index=False)\n",
    "join_df.to_sql('join_dataframe', con=engine, if_exists='replace', index=False)\n",
    "\n",
    "print(\"Dados enviados com sucesso para o banco de dados!\")"
   ]
  }
 ],
 "metadata": {
  "kernelspec": {
   "display_name": "Python 3",
   "language": "python",
   "name": "python3"
  },
  "language_info": {
   "codemirror_mode": {
    "name": "ipython",
    "version": 3
   },
   "file_extension": ".py",
   "mimetype": "text/x-python",
   "name": "python",
   "nbconvert_exporter": "python",
   "pygments_lexer": "ipython3",
   "version": "3.13.2"
  }
 },
 "nbformat": 4,
 "nbformat_minor": 2
}
