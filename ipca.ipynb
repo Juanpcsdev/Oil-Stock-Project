{
 "cells": [
  {
   "cell_type": "markdown",
   "metadata": {},
   "source": [
    "Transformação 'historico_do_valor_mensal_inflacao.csv'"
   ]
  },
  {
   "cell_type": "code",
   "execution_count": null,
   "metadata": {},
   "outputs": [
    {
     "data": {
      "text/plain": [
       "\"Erro ao ler o arquivo: read_excel() got an unexpected keyword argument 'encoding'\""
      ]
     },
     "metadata": {},
     "output_type": "display_data"
    }
   ],
   "source": [
    "import pandas as pd\n",
    "\n",
    "# Caminho correto do arquivo\n",
    "path_file = r\"C:\\Users\\JS982PS\\Documents\\Oil-Stock-Project\\dados\\historico_do_valor_mensal_inflacao.csv\"\n",
    "\n",
    "try:\n",
    "    df = pd.read_csv(path_file, encoding=\"utf-8\")  # Ajuste o encoding conforme necessário\n",
    "    display(df.head())  # Exibe as 5 primeiras linhas para verificar a leitura\n",
    "except Exception as e:\n",
    "    display(f\"Erro ao ler o arquivo: {e}\")\n"
   ]
  }
 ],
 "metadata": {
  "kernelspec": {
   "display_name": "Python 3",
   "language": "python",
   "name": "python3"
  },
  "language_info": {
   "codemirror_mode": {
    "name": "ipython",
    "version": 3
   },
   "file_extension": ".py",
   "mimetype": "text/x-python",
   "name": "python",
   "nbconvert_exporter": "python",
   "pygments_lexer": "ipython3",
   "version": "3.13.2"
  }
 },
 "nbformat": 4,
 "nbformat_minor": 2
}
