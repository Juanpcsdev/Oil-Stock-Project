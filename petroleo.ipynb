{
 "cells": [
  {
   "cell_type": "code",
   "execution_count": null,
   "metadata": {},
   "outputs": [],
   "source": [
    "import pandas as pd\n",
    "df = pd.read_csv('C:/Users/RK313RT/Downloads/Pyhon/Crude Oil WTI Futures Historical Data.csv')\n",
    "print(df.head())\n",
    "df['Vol.'] = df['Vol.'].str[:-1]\n",
    "print(df.head())\n",
    "df.to_csv('C:/Users/RK313RT/Downloads/Pyhon/Crude Oil WTI Futures Historical Data.csv', index=False)"
   ]
  },
  {
   "cell_type": "code",
   "execution_count": null,
   "metadata": {},
   "outputs": [],
   "source": [
    "# Converter a coluna 'Date' para o formato correto (DD/MM/AAAA)\n",
    "df['Date'] = pd.to_datetime(df['Date'], format='%m/%d/%Y').dt.strftime('%d/%m/%Y')\n",
    "\n",
    "# Exibir as primeiras linhas do DataFrame após a modificação\n",
    "print(\"Dados após a modificação:\")\n",
    "print(df.head())\n",
    "\n",
    "# Salvar o DataFrame modificado em um novo arquivo CSV\n",
    "modified_file_path = 'C:/Users/RK313RT/Downloads/Pyhon/Crude_Oil_WTI_Futures_Historical_Data_Modificado.csv'\n",
    "df.to_csv(modified_file_path, index=False)"
   ]
  }
 ],
 "metadata": {
  "kernelspec": {
   "display_name": "Python 3",
   "language": "python",
   "name": "python3"
  },
  "language_info": {
   "codemirror_mode": {
    "name": "ipython",
    "version": 3
   },
   "file_extension": ".py",
   "mimetype": "text/x-python",
   "name": "python",
   "nbconvert_exporter": "python",
   "pygments_lexer": "ipython3",
   "version": "3.13.2"
  }
 },
 "nbformat": 4,
 "nbformat_minor": 2
}
