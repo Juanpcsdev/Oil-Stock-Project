{
 "cells": [
  {
   "cell_type": "code",
   "execution_count": null,
   "metadata": {},
   "outputs": [
    {
     "name": "stdout",
     "output_type": "stream",
     "text": [
      "         Date  Price   Open   High    Low    Vol. Change %\n",
      "0  12/31/2024  71.25  70.69  71.52  70.43  63.63K    1.02%\n",
      "1  12/30/2024  70.53  70.00  71.05  69.75  93.10K    0.50%\n",
      "2  12/27/2024  70.18  69.27  70.32  69.06  79.13K    1.37%\n",
      "3  12/26/2024  69.23  69.72  70.25  68.94  69.64K   -0.59%\n",
      "4  12/24/2024  69.64  69.04  69.94  68.95  40.39K    1.21%\n",
      "         Date  Price   Open   High    Low   Vol. Change %\n",
      "0  12/31/2024  71.25  70.69  71.52  70.43  63.63    1.02%\n",
      "1  12/30/2024  70.53  70.00  71.05  69.75  93.10    0.50%\n",
      "2  12/27/2024  70.18  69.27  70.32  69.06  79.13    1.37%\n",
      "3  12/26/2024  69.23  69.72  70.25  68.94  69.64   -0.59%\n",
      "4  12/24/2024  69.64  69.04  69.94  68.95  40.39    1.21%\n"
     ]
    }
   ],
   "source": [
    "import pandas as pd\n",
    "df = pd.read_csv('camada_bronze\\\\Crude Oil WTI Futures Historical Data.csv')\n",
    "print(df.head())\n",
    "df['Vol.'] = df['Vol.'].str[:-1]\n",
    "print(df.head())"
   ]
  },
  {
   "cell_type": "code",
   "execution_count": null,
   "metadata": {},
   "outputs": [
    {
     "name": "stdout",
     "output_type": "stream",
     "text": [
      "Dados após a modificação:\n",
      "         Date  Price   Open   High    Low   Vol. Change %\n",
      "0  31/12/2024  71.25  70.69  71.52  70.43  63.63    1.02%\n",
      "1  30/12/2024  70.53  70.00  71.05  69.75  93.10    0.50%\n",
      "2  27/12/2024  70.18  69.27  70.32  69.06  79.13    1.37%\n",
      "3  26/12/2024  69.23  69.72  70.25  68.94  69.64   -0.59%\n",
      "4  24/12/2024  69.64  69.04  69.94  68.95  40.39    1.21%\n"
     ]
    }
   ],
   "source": [
    "# Converter a coluna 'Date' para o formato correto (DD/MM/AAAA)\n",
    "df['Date'] = pd.to_datetime(df['Date'], format='%m/%d/%Y').dt.strftime('%d/%m/%Y')\n",
    "\n",
    "# Exibir as primeiras linhas do DataFrame após a modificação\n",
    "print(\"Dados após a modificação:\")\n",
    "print(df.head())\n",
    "\n",
    "# Salvar o DataFrame modificado em um novo arquivo CSV\n",
    "modified_file_path = 'camada_prata\\\\Crude Oil WTI Futures Historical Data.csv'\n",
    "df.to_csv(modified_file_path, index=False)"
   ]
  }
 ],
 "metadata": {
  "kernelspec": {
   "display_name": "Python 3",
   "language": "python",
   "name": "python3"
  },
  "language_info": {
   "codemirror_mode": {
    "name": "ipython",
    "version": 3
   },
   "file_extension": ".py",
   "mimetype": "text/x-python",
   "name": "python",
   "nbconvert_exporter": "python",
   "pygments_lexer": "ipython3",
   "version": "3.13.2"
  }
 },
 "nbformat": 4,
 "nbformat_minor": 2
}
