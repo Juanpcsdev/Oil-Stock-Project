{
 "cells": [
  {
   "cell_type": "code",
   "execution_count": null,
   "metadata": {},
   "outputs": [],
   "source": [
    "import pandas as pd\n",
    "\n",
    "def etl_process(file_path, output_csv, output_xlsx):\n",
    "    \"\"\"Executa o processo ETL no arquivo CSV e salva como CSV e XLSX.\"\"\"\n",
    "    # Extração: Carregar o arquivo CSV do GitHub\n",
    "    df = pd.read_csv(file_path, delimiter=';')\n",
    "    \n",
    "    # Transformação: Limpeza e ajuste dos dados\n",
    "    df.columns = [col.strip() for col in df.columns]\n",
    "    df = df.applymap(lambda x: str(x).replace(\" \", \"\") if isinstance(x, str) else x)\n",
    "    df[\"Date\"] = df[\"Date\"].str.replace(r\"(\\d{4})(\\d{2}:\\d{2})\", r\"\\1 \\2\", regex=True)\n",
    "    df[\"Date\"] = pd.to_datetime(df[\"Date\"], format=\"%d/%m/%Y %H:%M\")\n",
    "    df[\"Open\"] = df[\"Open\"].str.replace(\",\", \".\").astype(float)\n",
    "    df[\"High\"] = df[\"High\"].str.replace(\",\", \".\").astype(float)\n",
    "    df[\"Low\"] = df[\"Low\"].str.replace(\",\", \".\").astype(float)\n",
    "    df[\"Close\"] = df[\"Close\"].str.replace(\",\", \".\").astype(float)\n",
    "    df[\"Volume\"] = df[\"Volume\"].str.replace(\",\", \".\").astype(float)\n",
    "    \n",
    "    # Carga: Salvar os dados limpos em CSV e XLSX\n",
    "    df.to_csv(output_csv, index=False)\n",
    "    df.to_excel(output_xlsx, index=False)\n",
    "    \n",
    "    return df\n",
    "\n",
    "# Caminho do arquivo no repositório GitHub e do arquivo processado\n",
    "github_file_path = \"https://raw.githubusercontent.com/Juanpcsdev/Oil-Stock-Project/main/dados/acao_petroleo2.csv\"\n",
    "output_csv = \"acao_petroleo2_clean.csv\"\n",
    "output_xlsx = \"dados/acao_petroleo2_clean.xlsx\"\n",
    "\n",
    "# Executar o ETL\n",
    "df_clean = etl_process(github_file_path, output_csv, output_xlsx)\n",
    "\n",
    "# Exibir os primeiros registros do DataFrame processado\n",
    "df_clean.head()"
   ]
  }
 ],
 "metadata": {
  "language_info": {
   "name": "python"
  }
 },
 "nbformat": 4,
 "nbformat_minor": 2
}
